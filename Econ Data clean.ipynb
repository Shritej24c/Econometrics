{
 "cells": [
  {
   "cell_type": "code",
   "execution_count": null,
   "metadata": {
    "pycharm": {
     "is_executing": true
    }
   },
   "outputs": [],
   "source": [
    "!pip install jupyterthemes\n",
    "!pip install --upgrade jupyterthemes"
   ]
  },
  {
   "cell_type": "code",
   "execution_count": null,
   "metadata": {
    "pycharm": {
     "is_executing": true
    }
   },
   "outputs": [],
   "source": [
    "!pip install seaborn"
   ]
  },
  {
   "cell_type": "code",
   "execution_count": null,
   "metadata": {
    "pycharm": {
     "is_executing": true
    }
   },
   "outputs": [],
   "source": [
    "!pip install linearmodels"
   ]
  },
  {
   "cell_type": "code",
   "execution_count": null,
   "metadata": {
    "pycharm": {
     "is_executing": true
    }
   },
   "outputs": [],
   "source": [
    "!pip install statsmodels "
   ]
  },
  {
   "cell_type": "code",
   "execution_count": null,
   "metadata": {
    "pycharm": {
     "is_executing": true
    },
    "scrolled": true
   },
   "outputs": [],
   "source": [
    "!pip install xlrd"
   ]
  },
  {
   "cell_type": "code",
   "execution_count": 8,
   "metadata": {
    "pycharm": {
     "is_executing": true
    }
   },
   "outputs": [],
   "source": [
    "import pandas as pd\n",
    "import numpy as np\n",
    "import os\n",
    "import seaborn as sn"
   ]
  },
  {
   "cell_type": "code",
   "execution_count": null,
   "metadata": {
    "pycharm": {
     "is_executing": true
    }
   },
   "outputs": [],
   "source": [
    "dr = \"/Users/shritej/Documents/Masters Courses/Quanquan Liu/Data/Excel/\"\n",
    "\n",
    "crrptn = pd.read_excel(dr+\"Corruption.xls\", sheet_name = \"Data\")\n",
    "crrptn.head()"
   ]
  },
  {
   "cell_type": "code",
   "execution_count": null,
   "metadata": {
    "pycharm": {
     "is_executing": true
    }
   },
   "outputs": [],
   "source": [
    "crrptn.shape[1]"
   ]
  },
  {
   "cell_type": "code",
   "execution_count": null,
   "metadata": {
    "pycharm": {
     "is_executing": true
    }
   },
   "outputs": [],
   "source": [
    "crrptn.iloc[2]\n"
   ]
  },
  {
   "cell_type": "code",
   "execution_count": null,
   "metadata": {
    "pycharm": {
     "is_executing": true
    }
   },
   "outputs": [],
   "source": [
    "crrptn.loc[:,\"Unnamed: 44\"]"
   ]
  },
  {
   "cell_type": "code",
   "execution_count": null,
   "metadata": {
    "pycharm": {
     "is_executing": true
    }
   },
   "outputs": [],
   "source": [
    "drp_col = [\"Unnamed: \"+ str(i) for i in range(4, 44)]\n",
    "drp_col.extend(['Unnamed: 65', 'Unnamed: 64'])\n",
    "\n",
    "print(drp_col)\n",
    "crp_drpcol = crrptn.drop(columns = drp_col )\n",
    "crp_drpcol"
   ]
  },
  {
   "cell_type": "code",
   "execution_count": null,
   "metadata": {
    "pycharm": {
     "is_executing": true
    }
   },
   "outputs": [],
   "source": [
    "crp = crp_drpcol.iloc[2:, ]\n",
    "crp"
   ]
  },
  {
   "cell_type": "code",
   "execution_count": null,
   "metadata": {
    "pycharm": {
     "is_executing": true
    }
   },
   "outputs": [],
   "source": [
    "crp.iloc[0]"
   ]
  },
  {
   "cell_type": "code",
   "execution_count": null,
   "metadata": {
    "pycharm": {
     "is_executing": true
    }
   },
   "outputs": [],
   "source": [
    "col = []\n",
    "for i in range(crp.shape[1]):\n",
    "    if i < 4:\n",
    "        col.append(crp.iloc[0,i])\n",
    "    else:\n",
    "        col.append(int(crp.iloc[0,i]))\n",
    "        \n",
    "        \n",
    "crp.columns = col\n",
    "crp_df = crp.drop(index = [2])\n",
    "crp_df.reset_index()\n",
    "crp_df"
   ]
  },
  {
   "cell_type": "code",
   "execution_count": null,
   "metadata": {
    "pycharm": {
     "is_executing": true
    }
   },
   "outputs": [],
   "source": [
    "gdp = pd.read_csv(dr+\"gdp21_region.csv\")\n",
    "safr = gdp.loc[gdp['Region'] == \"Sub-Saharan Africa\",[\"Country Name\", \"Country Code\", \"Region\", \"IncomeGroup\", \"2021\"]].sort_values(['2021'], ascending = True).dropna()\n",
    "afr = safr.loc[:, \"Country Code\"].tolist()\n",
    "print(safr.shape)\n",
    "print(safr.head())\n",
    "print(afr)\n"
   ]
  },
  {
   "cell_type": "code",
   "execution_count": null,
   "metadata": {
    "pycharm": {
     "is_executing": true
    }
   },
   "outputs": [],
   "source": [
    "gdp.dropna(inplace = True)\n",
    "print(gdp.shape)\n",
    "print(gdp)\n",
    "countries = gdp.loc[gdp['Region'] == \"Sub-Saharan Africa\", 'Country Code']"
   ]
  },
  {
   "cell_type": "code",
   "execution_count": null,
   "metadata": {
    "pycharm": {
     "is_executing": true
    }
   },
   "outputs": [],
   "source": [
    "meta = pd.read_excel(dr+\"Corruption.xls\", sheet_name = \"Metadata - Countries\")\n",
    "countries = meta.loc[meta['Region'] == \"Sub-Saharan Africa\", 'Country Code']\n",
    "print(len(countries))\n",
    "print(countries)"
   ]
  },
  {
   "cell_type": "code",
   "execution_count": null,
   "metadata": {
    "pycharm": {
     "is_executing": true
    }
   },
   "outputs": [],
   "source": [
    "col_list = crp_df.columns\n",
    "crp_afr_df = crp_df.loc[crp_df['Country Code'].isin(afr)]\n",
    "crp_fdf = pd.melt(crp_afr_df, id_vars = col_list[:4], value_vars = col_list[4:], var_name = \"Year\")\n",
    "crp_fdf"
   ]
  },
  {
   "cell_type": "code",
   "execution_count": null,
   "metadata": {
    "pycharm": {
     "is_executing": true
    }
   },
   "outputs": [],
   "source": [
    "ind = \"Corruption\"\n",
    "crp_fdf.rename(columns = {'value':ind}, inplace = True )\n",
    "crp_fdf.drop(columns = [\"Indicator Name\",\t\"Indicator Code\"], inplace = True)\n",
    "crp_fdf\n"
   ]
  },
  {
   "cell_type": "code",
   "execution_count": null,
   "metadata": {
    "pycharm": {
     "is_executing": true
    }
   },
   "outputs": [],
   "source": [
    "files = os.listdir(dr)\n",
    "print(files)"
   ]
  },
  {
   "cell_type": "code",
   "execution_count": null,
   "metadata": {
    "pycharm": {
     "is_executing": true
    }
   },
   "outputs": [],
   "source": [
    "sd = 'Prevelance of Undernourishment.xls'\n",
    "s = sd.split('.')\n",
    "s"
   ]
  },
  {
   "cell_type": "code",
   "execution_count": null,
   "metadata": {
    "pycharm": {
     "is_executing": true
    }
   },
   "outputs": [],
   "source": [
    "dis_df = pd.read_csv(dr+'total-disease-burden-by-cause.csv')\n",
    "dis_afr_df = dis_df.loc[(dis_df['Code'].isin(afr)) & (dis_df['Year'].isin([x for x in range(2000, 2020)])), :].reset_index(drop = True)\n",
    "dis_afr_df"
   ]
  },
  {
   "cell_type": "code",
   "execution_count": null,
   "metadata": {
    "pycharm": {
     "is_executing": true
    }
   },
   "outputs": [],
   "source": [
    "educ = pd.read_csv(dr+\"total-government-expenditure-on-education-gdp.csv\")\n",
    "educ_df = educ.loc[(educ['Code'].isin(afr)) & (educ['Year'].isin([x for x in range(2000, 2020)])), :].reset_index(drop = True)\n",
    "educ_df"
   ]
  },
  {
   "cell_type": "code",
   "execution_count": null,
   "metadata": {
    "pycharm": {
     "is_executing": true
    }
   },
   "outputs": [],
   "source": [
    "print(len(cont))\n",
    "cont\n"
   ]
  },
  {
   "cell_type": "markdown",
   "metadata": {},
   "source": [
    "## Looping all the Indicators XLS file "
   ]
  },
  {
   "cell_type": "code",
   "execution_count": null,
   "metadata": {
    "pycharm": {
     "is_executing": true
    }
   },
   "outputs": [],
   "source": [
    "gdp = pd.read_csv(dr+\"gdp21_region.csv\")\n",
    "safr = gdp.loc[gdp['Region'] == \"Sub-Saharan Africa\",[\"Country Name\", \"Country Code\", \"Region\", \"IncomeGroup\", \"2021\"]].sort_values(['2021'], ascending = True).dropna()\n",
    "afr = safr.loc[:, \"Country Code\"].tolist()\n",
    "dis_df = pd.read_csv(dr+'total-disease-burden-by-cause.csv')"
   ]
  },
  {
   "cell_type": "code",
   "execution_count": null,
   "metadata": {
    "pycharm": {
     "is_executing": true
    }
   },
   "outputs": [],
   "source": [
    "files = os.listdir(dr)\n",
    "print(files)"
   ]
  },
  {
   "cell_type": "code",
   "execution_count": null,
   "metadata": {
    "pycharm": {
     "is_executing": true
    }
   },
   "outputs": [],
   "source": [
    "drp_col = [\"Unnamed: \"+ str(i) for i in range(4, 44)]\n",
    "drp_col.extend(['Unnamed: 65', 'Unnamed: 64'])\n",
    "\n",
    "\n",
    "for f in range(len(files)):\n",
    "    print(f)\n",
    "    fbr = files[f].split(\".\")\n",
    "    if fbr[1] == 'xls':\n",
    "        ind = fbr[0]\n",
    "        ind_df = pd.read_excel(dr+files[f], sheet_name = \"Data\")\n",
    "        df_drp = ind_df.drop(columns = drp_col )\n",
    "        df_main = df_drp.iloc[2:, ]\n",
    "        col = []\n",
    "        for i in range(df_main.shape[1]):\n",
    "            if i < 4:\n",
    "                col.append(df_main.iloc[0,i])\n",
    "            else:\n",
    "                col.append(int(df_main.iloc[0,i]))\n",
    "\n",
    "\n",
    "        df_main.columns = col\n",
    "        df = df_main.drop(index = [2])\n",
    "        df.reset_index()\n",
    "        col_list = df.columns\n",
    "        df_afr = df.loc[crp_df['Country Code'].isin(afr)]\n",
    "        dfi = pd.melt(df_afr, id_vars = col_list[:4], value_vars = col_list[4:], var_name = \"Year\")  \n",
    "        dfi.rename(columns = {'value':ind}, inplace = True )\n",
    "        dfi.drop(columns = [\"Indicator Name\",\t\"Indicator Code\"], inplace = True)\n",
    "        if f == 0: \n",
    "            df_real = dfi\n",
    "            print(dfi)\n",
    "        else: \n",
    "            df_real = pd.merge(df_real, dfi, on = [\"Country Name\", \"Country Code\", \"Year\"], how = 'inner')\n",
    "\n",
    "df_real\n",
    "        "
   ]
  },
  {
   "cell_type": "code",
   "execution_count": null,
   "metadata": {
    "pycharm": {
     "is_executing": true
    }
   },
   "outputs": [],
   "source": [
    "crp_fdf"
   ]
  },
  {
   "cell_type": "code",
   "execution_count": null,
   "metadata": {
    "pycharm": {
     "is_executing": true
    },
    "scrolled": true
   },
   "outputs": [],
   "source": [
    "dfi.loc[dfi['Country Code'] == 'CMR', ]"
   ]
  },
  {
   "cell_type": "code",
   "execution_count": null,
   "metadata": {
    "pycharm": {
     "is_executing": true
    }
   },
   "outputs": [],
   "source": [
    "df_master = pd.DataFrame(columns = [\"Country Name\", \"Country Code\", \"Year\"])\n"
   ]
  },
  {
   "cell_type": "code",
   "execution_count": null,
   "metadata": {
    "pycharm": {
     "is_executing": true
    }
   },
   "outputs": [],
   "source": [
    "df_merge = pd.merge(crp_fdf, dfi, on = [\"Country Name\", \"Country Code\", \"Year\"], how = 'inner')\n",
    "df_merge"
   ]
  },
  {
   "cell_type": "code",
   "execution_count": null,
   "metadata": {
    "pycharm": {
     "is_executing": true
    }
   },
   "outputs": [],
   "source": [
    "df_final = pd.merge(df_real, dis_afr_df, left_on = [\"Country Name\", \"Country Code\", \"Year\"], right_on= ['Entity','Code','Year'], how = 'inner')\n",
    "\n",
    "df_final"
   ]
  },
  {
   "cell_type": "code",
   "execution_count": null,
   "metadata": {
    "pycharm": {
     "is_executing": true
    }
   },
   "outputs": [],
   "source": []
  },
  {
   "cell_type": "code",
   "execution_count": null,
   "metadata": {
    "pycharm": {
     "is_executing": true
    }
   },
   "outputs": [],
   "source": [
    "df_final.drop('Year', 1).isna().groupby(df_final.Year, sort=False).sum().reset_index()\n"
   ]
  },
  {
   "cell_type": "code",
   "execution_count": null,
   "metadata": {
    "pycharm": {
     "is_executing": true
    }
   },
   "outputs": [],
   "source": [
    "df_final\n"
   ]
  },
  {
   "cell_type": "code",
   "execution_count": null,
   "metadata": {
    "pycharm": {
     "is_executing": true
    }
   },
   "outputs": [],
   "source": [
    "df_final.loc[df_final['Year' == '2019']]"
   ]
  },
  {
   "cell_type": "code",
   "execution_count": null,
   "metadata": {
    "pycharm": {
     "is_executing": true
    }
   },
   "outputs": [],
   "source": [
    "df_real.loc[df_real['Year'] == 2019, :].sort_values(['Life Expectancy World Bank'], ascending = False)"
   ]
  },
  {
   "cell_type": "code",
   "execution_count": null,
   "metadata": {
    "pycharm": {
     "is_executing": true
    }
   },
   "outputs": [],
   "source": [
    "df_final05 = df_final.loc[df_final['Year']> 2004, :]"
   ]
  },
  {
   "cell_type": "code",
   "execution_count": null,
   "metadata": {
    "pycharm": {
     "is_executing": true
    }
   },
   "outputs": [],
   "source": [
    "df_na_cont = df_final05.drop('Country Name', 1).isna().groupby(df_final05['Country Name'], sort=False).sum().reset_index()"
   ]
  },
  {
   "cell_type": "code",
   "execution_count": null,
   "metadata": {
    "pycharm": {
     "is_executing": true
    }
   },
   "outputs": [],
   "source": [
    "df_na_cont"
   ]
  },
  {
   "cell_type": "code",
   "execution_count": null,
   "metadata": {
    "pycharm": {
     "is_executing": true
    }
   },
   "outputs": [],
   "source": [
    "df_na_cont.loc[df_na_cont['Sanitation'] == 0 ].reset_index()"
   ]
  },
  {
   "cell_type": "code",
   "execution_count": null,
   "metadata": {
    "pycharm": {
     "is_executing": true
    }
   },
   "outputs": [],
   "source": [
    "df_fil = df_na_cont.loc[(df_na_cont['Prevelance of Undernourishment'] == 0 ) & (df_na_cont['Corruption'] == 0) & (df_na_cont['Education Expenditure %'] <10)].reset_index()\n",
    "\n",
    "cont = df_fil['Country Name'].tolist()\n",
    "df_fil"
   ]
  },
  {
   "cell_type": "code",
   "execution_count": null,
   "metadata": {
    "pycharm": {
     "is_executing": true
    }
   },
   "outputs": [],
   "source": [
    "df_ed_na = df_na_cont.loc[(df_na_cont['Education Expenditure %'] != 0 ) & (df_na_cont['Country Name'].isin(cont))].reset_index(drop = True)\n",
    "cn_edna = df_ed_na['Country Name'].tolist()\n"
   ]
  },
  {
   "cell_type": "code",
   "execution_count": null,
   "metadata": {
    "pycharm": {
     "is_executing": true
    }
   },
   "outputs": [],
   "source": [
    "drop_cont = ['Seychelles', 'Equatorial Guinea'  ]"
   ]
  },
  {
   "cell_type": "code",
   "execution_count": null,
   "metadata": {
    "pycharm": {
     "is_executing": true
    }
   },
   "outputs": [],
   "source": [
    "df_final.drop(columns = ['Sanitation','Entity','Code'], inplace = True)"
   ]
  },
  {
   "cell_type": "code",
   "execution_count": null,
   "metadata": {
    "pycharm": {
     "is_executing": true
    }
   },
   "outputs": [],
   "source": [
    "print(len(cont))\n",
    "cont"
   ]
  },
  {
   "cell_type": "code",
   "execution_count": null,
   "metadata": {
    "pycharm": {
     "is_executing": true
    }
   },
   "outputs": [],
   "source": [
    "\n",
    "df_final = df_final.loc[(df_final['Country Name'].isin(cont)) & (df_final['Year'] >= 2005), :]\n",
    "df_final"
   ]
  },
  {
   "cell_type": "code",
   "execution_count": null,
   "metadata": {
    "pycharm": {
     "is_executing": true
    }
   },
   "outputs": [],
   "source": [
    "df_final.to_csv(dr + 'final_df.csv', index = False)"
   ]
  },
  {
   "cell_type": "code",
   "execution_count": null,
   "metadata": {
    "pycharm": {
     "is_executing": true
    }
   },
   "outputs": [],
   "source": [
    "df_final[df_final['Country Name'] == 'Mozambique']"
   ]
  },
  {
   "cell_type": "code",
   "execution_count": null,
   "metadata": {
    "pycharm": {
     "is_executing": true
    },
    "scrolled": true
   },
   "outputs": [],
   "source": [
    "df_final2 = df_final.rename(columns = {\"Prevelance of Undernourishment\" : \"Undernourishment\", \\\n",
    "                           \"Health Expenditure %\": \"Health\", \\\n",
    "                          \"Education Expenditure %\" : \"Educ\", \\\n",
    "                          \"Life Expectancy World Bank\": \"Y\"})\n",
    "df_final2['Educ'] = df_final2['Educ'].interpolate(method = 'linear')\n",
    "df_final2[df_final2['Country Name'] == 'Mozambique']"
   ]
  },
  {
   "cell_type": "code",
   "execution_count": null,
   "metadata": {
    "pycharm": {
     "is_executing": true
    }
   },
   "outputs": [],
   "source": [
    "df_final2 = df_final.rename(columns = {\"Prevelance of Undernourishment\" : \"Undernourishment\", \\\n",
    "                           \"Health Expenditure %\": \"Health\", \\\n",
    "                          \"Education Expenditure %\" : \"Educ\", \\\n",
    "                          \"Life Expectancy World Bank\": \"Y\"})\n",
    "df_final2['Educ'] = df_final2['Educ'].fillna(method ='bfill')\n",
    "df_final2[df_final2['Country Name'] == 'Mozambique']"
   ]
  },
  {
   "cell_type": "code",
   "execution_count": null,
   "metadata": {
    "pycharm": {
     "is_executing": true
    }
   },
   "outputs": [],
   "source": [
    "code_name_dic = df_final2.groupby('Country Code')['Country Name'].unique().apply(list).to_dict()\n",
    "code_name_dic\n"
   ]
  },
  {
   "cell_type": "code",
   "execution_count": null,
   "metadata": {
    "pycharm": {
     "is_executing": true
    }
   },
   "outputs": [],
   "source": [
    "lg_col = ['Injuries','Communicable','NonCommunicable','CO2' ]\n",
    "for i in lg_col:\n",
    "    df_final2['log_'+ i ] = np.log10(df_final2[i])\n"
   ]
  },
  {
   "cell_type": "code",
   "execution_count": null,
   "metadata": {
    "pycharm": {
     "is_executing": true
    }
   },
   "outputs": [],
   "source": [
    "['df']+ ['s', 'f']"
   ]
  },
  {
   "cell_type": "code",
   "execution_count": null,
   "metadata": {
    "pycharm": {
     "is_executing": true
    }
   },
   "outputs": [],
   "source": [
    "df_final2.isna().sum()"
   ]
  },
  {
   "cell_type": "code",
   "execution_count": null,
   "metadata": {
    "pycharm": {
     "is_executing": true
    }
   },
   "outputs": [],
   "source": [
    "df_final2.drop(columns = ['CO2', 'log_Injuries', 'log_NonCommunicable', 'Injuries','Communicable','NonCommunicable']).reset_index(drop = True)"
   ]
  },
  {
   "cell_type": "code",
   "execution_count": null,
   "metadata": {
    "pycharm": {
     "is_executing": true
    }
   },
   "outputs": [],
   "source": [
    "df_final2.to_csv(dr + 'df_final2.csv', index = False)"
   ]
  },
  {
   "cell_type": "markdown",
   "metadata": {},
   "source": [
    "### Panel Data Preparation"
   ]
  },
  {
   "cell_type": "code",
   "execution_count": 18,
   "metadata": {
    "pycharm": {
     "is_executing": true
    }
   },
   "outputs": [
    {
     "data": {
      "text/html": [
       "<div>\n",
       "<style scoped>\n",
       "    .dataframe tbody tr th:only-of-type {\n",
       "        vertical-align: middle;\n",
       "    }\n",
       "\n",
       "    .dataframe tbody tr th {\n",
       "        vertical-align: top;\n",
       "    }\n",
       "\n",
       "    .dataframe thead th {\n",
       "        text-align: right;\n",
       "    }\n",
       "</style>\n",
       "<table border=\"1\" class=\"dataframe\">\n",
       "  <thead>\n",
       "    <tr style=\"text-align: right;\">\n",
       "      <th></th>\n",
       "      <th></th>\n",
       "      <th>Undernourishment</th>\n",
       "      <th>Health</th>\n",
       "      <th>Y</th>\n",
       "      <th>Educ</th>\n",
       "      <th>Unemployment</th>\n",
       "      <th>Corruption</th>\n",
       "      <th>log_Injuries</th>\n",
       "      <th>log_Communicable</th>\n",
       "      <th>log_NonCommunicable</th>\n",
       "      <th>log_CO2</th>\n",
       "    </tr>\n",
       "    <tr>\n",
       "      <th>Country Code</th>\n",
       "      <th>Year</th>\n",
       "      <th></th>\n",
       "      <th></th>\n",
       "      <th></th>\n",
       "      <th></th>\n",
       "      <th></th>\n",
       "      <th></th>\n",
       "      <th></th>\n",
       "      <th></th>\n",
       "      <th></th>\n",
       "      <th></th>\n",
       "    </tr>\n",
       "  </thead>\n",
       "  <tbody>\n",
       "    <tr>\n",
       "      <th>BEN</th>\n",
       "      <th>2005</th>\n",
       "      <td>12.0</td>\n",
       "      <td>2.934783</td>\n",
       "      <td>57.355</td>\n",
       "      <td>2.656680</td>\n",
       "      <td>0.825</td>\n",
       "      <td>3.5</td>\n",
       "      <td>5.496503</td>\n",
       "      <td>6.636944</td>\n",
       "      <td>6.118345</td>\n",
       "      <td>3.462398</td>\n",
       "    </tr>\n",
       "    <tr>\n",
       "      <th>BFA</th>\n",
       "      <th>2005</th>\n",
       "      <td>17.5</td>\n",
       "      <td>3.951091</td>\n",
       "      <td>53.310</td>\n",
       "      <td>3.941140</td>\n",
       "      <td>4.000</td>\n",
       "      <td>3.5</td>\n",
       "      <td>5.771901</td>\n",
       "      <td>7.000503</td>\n",
       "      <td>6.424960</td>\n",
       "      <td>3.025306</td>\n",
       "    </tr>\n",
       "    <tr>\n",
       "      <th>CAF</th>\n",
       "      <th>2005</th>\n",
       "      <td>39.6</td>\n",
       "      <td>4.367321</td>\n",
       "      <td>44.744</td>\n",
       "      <td>1.652220</td>\n",
       "      <td>5.695</td>\n",
       "      <td>2.5</td>\n",
       "      <td>5.491547</td>\n",
       "      <td>6.575926</td>\n",
       "      <td>5.905885</td>\n",
       "      <td>2.342423</td>\n",
       "    </tr>\n",
       "    <tr>\n",
       "      <th>CMR</th>\n",
       "      <th>2005</th>\n",
       "      <td>15.9</td>\n",
       "      <td>4.095445</td>\n",
       "      <td>52.760</td>\n",
       "      <td>2.656520</td>\n",
       "      <td>4.400</td>\n",
       "      <td>2.5</td>\n",
       "      <td>5.849013</td>\n",
       "      <td>7.037198</td>\n",
       "      <td>6.463379</td>\n",
       "      <td>3.700704</td>\n",
       "    </tr>\n",
       "    <tr>\n",
       "      <th>ETH</th>\n",
       "      <th>2005</th>\n",
       "      <td>37.1</td>\n",
       "      <td>4.100981</td>\n",
       "      <td>56.223</td>\n",
       "      <td>7.422080</td>\n",
       "      <td>2.500</td>\n",
       "      <td>2.5</td>\n",
       "      <td>6.491928</td>\n",
       "      <td>7.610563</td>\n",
       "      <td>7.041690</td>\n",
       "      <td>3.703291</td>\n",
       "    </tr>\n",
       "    <tr>\n",
       "      <th>...</th>\n",
       "      <th>...</th>\n",
       "      <td>...</td>\n",
       "      <td>...</td>\n",
       "      <td>...</td>\n",
       "      <td>...</td>\n",
       "      <td>...</td>\n",
       "      <td>...</td>\n",
       "      <td>...</td>\n",
       "      <td>...</td>\n",
       "      <td>...</td>\n",
       "      <td>...</td>\n",
       "    </tr>\n",
       "    <tr>\n",
       "      <th>SEN</th>\n",
       "      <th>2019</th>\n",
       "      <td>7.4</td>\n",
       "      <td>4.132269</td>\n",
       "      <td>67.941</td>\n",
       "      <td>5.348875</td>\n",
       "      <td>2.860</td>\n",
       "      <td>3.5</td>\n",
       "      <td>5.525028</td>\n",
       "      <td>6.465340</td>\n",
       "      <td>6.346181</td>\n",
       "      <td>4.026125</td>\n",
       "    </tr>\n",
       "    <tr>\n",
       "      <th>SLE</th>\n",
       "      <th>2019</th>\n",
       "      <td>27.9</td>\n",
       "      <td>8.749766</td>\n",
       "      <td>54.696</td>\n",
       "      <td>7.447010</td>\n",
       "      <td>4.649</td>\n",
       "      <td>3.0</td>\n",
       "      <td>5.463166</td>\n",
       "      <td>6.484336</td>\n",
       "      <td>6.146085</td>\n",
       "      <td>2.954242</td>\n",
       "    </tr>\n",
       "    <tr>\n",
       "      <th>TCD</th>\n",
       "      <th>2019</th>\n",
       "      <td>31.7</td>\n",
       "      <td>4.353631</td>\n",
       "      <td>54.239</td>\n",
       "      <td>2.372460</td>\n",
       "      <td>1.123</td>\n",
       "      <td>2.5</td>\n",
       "      <td>5.797074</td>\n",
       "      <td>6.929261</td>\n",
       "      <td>6.390883</td>\n",
       "      <td>3.352183</td>\n",
       "    </tr>\n",
       "    <tr>\n",
       "      <th>TGO</th>\n",
       "      <th>2019</th>\n",
       "      <td>20.1</td>\n",
       "      <td>5.726069</td>\n",
       "      <td>61.042</td>\n",
       "      <td>4.069143</td>\n",
       "      <td>3.719</td>\n",
       "      <td>3.0</td>\n",
       "      <td>5.391079</td>\n",
       "      <td>6.299435</td>\n",
       "      <td>6.075662</td>\n",
       "      <td>3.374748</td>\n",
       "    </tr>\n",
       "    <tr>\n",
       "      <th>TZA</th>\n",
       "      <th>2019</th>\n",
       "      <td>23.4</td>\n",
       "      <td>3.827693</td>\n",
       "      <td>65.456</td>\n",
       "      <td>3.596836</td>\n",
       "      <td>2.222</td>\n",
       "      <td>3.0</td>\n",
       "      <td>6.169744</td>\n",
       "      <td>7.125191</td>\n",
       "      <td>6.927835</td>\n",
       "      <td>4.095169</td>\n",
       "    </tr>\n",
       "  </tbody>\n",
       "</table>\n",
       "<p>285 rows × 10 columns</p>\n",
       "</div>"
      ],
      "text/plain": [
       "                   Undernourishment    Health       Y      Educ  Unemployment  \\\n",
       "Country Code Year                                                               \n",
       "BEN          2005              12.0  2.934783  57.355  2.656680         0.825   \n",
       "BFA          2005              17.5  3.951091  53.310  3.941140         4.000   \n",
       "CAF          2005              39.6  4.367321  44.744  1.652220         5.695   \n",
       "CMR          2005              15.9  4.095445  52.760  2.656520         4.400   \n",
       "ETH          2005              37.1  4.100981  56.223  7.422080         2.500   \n",
       "...                             ...       ...     ...       ...           ...   \n",
       "SEN          2019               7.4  4.132269  67.941  5.348875         2.860   \n",
       "SLE          2019              27.9  8.749766  54.696  7.447010         4.649   \n",
       "TCD          2019              31.7  4.353631  54.239  2.372460         1.123   \n",
       "TGO          2019              20.1  5.726069  61.042  4.069143         3.719   \n",
       "TZA          2019              23.4  3.827693  65.456  3.596836         2.222   \n",
       "\n",
       "                   Corruption  log_Injuries  log_Communicable  \\\n",
       "Country Code Year                                               \n",
       "BEN          2005         3.5      5.496503          6.636944   \n",
       "BFA          2005         3.5      5.771901          7.000503   \n",
       "CAF          2005         2.5      5.491547          6.575926   \n",
       "CMR          2005         2.5      5.849013          7.037198   \n",
       "ETH          2005         2.5      6.491928          7.610563   \n",
       "...                       ...           ...               ...   \n",
       "SEN          2019         3.5      5.525028          6.465340   \n",
       "SLE          2019         3.0      5.463166          6.484336   \n",
       "TCD          2019         2.5      5.797074          6.929261   \n",
       "TGO          2019         3.0      5.391079          6.299435   \n",
       "TZA          2019         3.0      6.169744          7.125191   \n",
       "\n",
       "                   log_NonCommunicable   log_CO2  \n",
       "Country Code Year                                 \n",
       "BEN          2005             6.118345  3.462398  \n",
       "BFA          2005             6.424960  3.025306  \n",
       "CAF          2005             5.905885  2.342423  \n",
       "CMR          2005             6.463379  3.700704  \n",
       "ETH          2005             7.041690  3.703291  \n",
       "...                                ...       ...  \n",
       "SEN          2019             6.346181  4.026125  \n",
       "SLE          2019             6.146085  2.954242  \n",
       "TCD          2019             6.390883  3.352183  \n",
       "TGO          2019             6.075662  3.374748  \n",
       "TZA          2019             6.927835  4.095169  \n",
       "\n",
       "[285 rows x 10 columns]"
      ]
     },
     "execution_count": 18,
     "metadata": {},
     "output_type": "execute_result"
    }
   ],
   "source": [
    "df_final2 = pd.read_csv('df_final2.csv')\n",
    "lg_col = ['Injuries','Communicable','NonCommunicable','CO2' ]\n",
    "pdf = df_final2.set_index(keys = ['Country Code', \"Year\"]).drop(columns = [\"Country Name\"]+lg_col)\n",
    "pdf\n"
   ]
  },
  {
   "cell_type": "code",
   "execution_count": 19,
   "metadata": {},
   "outputs": [
    {
     "data": {
      "text/html": [
       "<div>\n",
       "<style scoped>\n",
       "    .dataframe tbody tr th:only-of-type {\n",
       "        vertical-align: middle;\n",
       "    }\n",
       "\n",
       "    .dataframe tbody tr th {\n",
       "        vertical-align: top;\n",
       "    }\n",
       "\n",
       "    .dataframe thead th {\n",
       "        text-align: right;\n",
       "    }\n",
       "</style>\n",
       "<table border=\"1\" class=\"dataframe\">\n",
       "  <thead>\n",
       "    <tr style=\"text-align: right;\">\n",
       "      <th></th>\n",
       "      <th>Country Name</th>\n",
       "      <th>Country Code</th>\n",
       "      <th>Year</th>\n",
       "      <th>Undernourishment</th>\n",
       "      <th>CO2</th>\n",
       "      <th>Health</th>\n",
       "      <th>Y</th>\n",
       "      <th>Educ</th>\n",
       "      <th>Unemployment</th>\n",
       "      <th>Corruption</th>\n",
       "      <th>Injuries</th>\n",
       "      <th>Communicable</th>\n",
       "      <th>NonCommunicable</th>\n",
       "      <th>log_Injuries</th>\n",
       "      <th>log_Communicable</th>\n",
       "      <th>log_NonCommunicable</th>\n",
       "      <th>log_CO2</th>\n",
       "    </tr>\n",
       "  </thead>\n",
       "  <tbody>\n",
       "    <tr>\n",
       "      <th>0</th>\n",
       "      <td>Benin</td>\n",
       "      <td>BEN</td>\n",
       "      <td>2005</td>\n",
       "      <td>12.0</td>\n",
       "      <td>2900.000095</td>\n",
       "      <td>2.934783</td>\n",
       "      <td>57.355</td>\n",
       "      <td>2.65668</td>\n",
       "      <td>0.825</td>\n",
       "      <td>3.5</td>\n",
       "      <td>313691.95</td>\n",
       "      <td>4334552.55</td>\n",
       "      <td>1313241.95</td>\n",
       "      <td>5.496503</td>\n",
       "      <td>6.636944</td>\n",
       "      <td>6.118345</td>\n",
       "      <td>3.462398</td>\n",
       "    </tr>\n",
       "    <tr>\n",
       "      <th>1</th>\n",
       "      <td>Burkina Faso</td>\n",
       "      <td>BFA</td>\n",
       "      <td>2005</td>\n",
       "      <td>17.5</td>\n",
       "      <td>1059.999943</td>\n",
       "      <td>3.951091</td>\n",
       "      <td>53.310</td>\n",
       "      <td>3.94114</td>\n",
       "      <td>4.000</td>\n",
       "      <td>3.5</td>\n",
       "      <td>591426.25</td>\n",
       "      <td>10011584.28</td>\n",
       "      <td>2660480.48</td>\n",
       "      <td>5.771901</td>\n",
       "      <td>7.000503</td>\n",
       "      <td>6.424960</td>\n",
       "      <td>3.025306</td>\n",
       "    </tr>\n",
       "    <tr>\n",
       "      <th>2</th>\n",
       "      <td>Central African Republic</td>\n",
       "      <td>CAF</td>\n",
       "      <td>2005</td>\n",
       "      <td>39.6</td>\n",
       "      <td>219.999999</td>\n",
       "      <td>4.367321</td>\n",
       "      <td>44.744</td>\n",
       "      <td>1.65222</td>\n",
       "      <td>5.695</td>\n",
       "      <td>2.5</td>\n",
       "      <td>310132.64</td>\n",
       "      <td>3766393.86</td>\n",
       "      <td>805165.65</td>\n",
       "      <td>5.491547</td>\n",
       "      <td>6.575926</td>\n",
       "      <td>5.905885</td>\n",
       "      <td>2.342423</td>\n",
       "    </tr>\n",
       "    <tr>\n",
       "      <th>3</th>\n",
       "      <td>Cameroon</td>\n",
       "      <td>CMR</td>\n",
       "      <td>2005</td>\n",
       "      <td>15.9</td>\n",
       "      <td>5019.999981</td>\n",
       "      <td>4.095445</td>\n",
       "      <td>52.760</td>\n",
       "      <td>2.65652</td>\n",
       "      <td>4.400</td>\n",
       "      <td>2.5</td>\n",
       "      <td>706338.00</td>\n",
       "      <td>10894276.03</td>\n",
       "      <td>2906555.32</td>\n",
       "      <td>5.849013</td>\n",
       "      <td>7.037198</td>\n",
       "      <td>6.463379</td>\n",
       "      <td>3.700704</td>\n",
       "    </tr>\n",
       "    <tr>\n",
       "      <th>4</th>\n",
       "      <td>Ethiopia</td>\n",
       "      <td>ETH</td>\n",
       "      <td>2005</td>\n",
       "      <td>37.1</td>\n",
       "      <td>5050.000191</td>\n",
       "      <td>4.100981</td>\n",
       "      <td>56.223</td>\n",
       "      <td>7.42208</td>\n",
       "      <td>2.500</td>\n",
       "      <td>2.5</td>\n",
       "      <td>3104046.10</td>\n",
       "      <td>40790843.51</td>\n",
       "      <td>11007525.30</td>\n",
       "      <td>6.491928</td>\n",
       "      <td>7.610563</td>\n",
       "      <td>7.041690</td>\n",
       "      <td>3.703291</td>\n",
       "    </tr>\n",
       "  </tbody>\n",
       "</table>\n",
       "</div>"
      ],
      "text/plain": [
       "               Country Name Country Code  Year  Undernourishment          CO2  \\\n",
       "0                     Benin          BEN  2005              12.0  2900.000095   \n",
       "1              Burkina Faso          BFA  2005              17.5  1059.999943   \n",
       "2  Central African Republic          CAF  2005              39.6   219.999999   \n",
       "3                  Cameroon          CMR  2005              15.9  5019.999981   \n",
       "4                  Ethiopia          ETH  2005              37.1  5050.000191   \n",
       "\n",
       "     Health       Y     Educ  Unemployment  Corruption    Injuries  \\\n",
       "0  2.934783  57.355  2.65668         0.825         3.5   313691.95   \n",
       "1  3.951091  53.310  3.94114         4.000         3.5   591426.25   \n",
       "2  4.367321  44.744  1.65222         5.695         2.5   310132.64   \n",
       "3  4.095445  52.760  2.65652         4.400         2.5   706338.00   \n",
       "4  4.100981  56.223  7.42208         2.500         2.5  3104046.10   \n",
       "\n",
       "   Communicable  NonCommunicable  log_Injuries  log_Communicable  \\\n",
       "0    4334552.55       1313241.95      5.496503          6.636944   \n",
       "1   10011584.28       2660480.48      5.771901          7.000503   \n",
       "2    3766393.86        805165.65      5.491547          6.575926   \n",
       "3   10894276.03       2906555.32      5.849013          7.037198   \n",
       "4   40790843.51      11007525.30      6.491928          7.610563   \n",
       "\n",
       "   log_NonCommunicable   log_CO2  \n",
       "0             6.118345  3.462398  \n",
       "1             6.424960  3.025306  \n",
       "2             5.905885  2.342423  \n",
       "3             6.463379  3.700704  \n",
       "4             7.041690  3.703291  "
      ]
     },
     "execution_count": 19,
     "metadata": {},
     "output_type": "execute_result"
    }
   ],
   "source": [
    "df_final2.head()"
   ]
  },
  {
   "cell_type": "code",
   "execution_count": 20,
   "metadata": {
    "pycharm": {
     "is_executing": true
    }
   },
   "outputs": [],
   "source": [
    "years = pdf.index.get_level_values('Year').to_list()\n",
    "pdf[\"Year\"] = pd.Categorical(years)"
   ]
  },
  {
   "cell_type": "code",
   "execution_count": 21,
   "metadata": {
    "pycharm": {
     "is_executing": true
    }
   },
   "outputs": [
    {
     "data": {
      "text/html": [
       "<div>\n",
       "<style scoped>\n",
       "    .dataframe tbody tr th:only-of-type {\n",
       "        vertical-align: middle;\n",
       "    }\n",
       "\n",
       "    .dataframe tbody tr th {\n",
       "        vertical-align: top;\n",
       "    }\n",
       "\n",
       "    .dataframe thead th {\n",
       "        text-align: right;\n",
       "    }\n",
       "</style>\n",
       "<table border=\"1\" class=\"dataframe\">\n",
       "  <thead>\n",
       "    <tr style=\"text-align: right;\">\n",
       "      <th></th>\n",
       "      <th></th>\n",
       "      <th>Undernourishment</th>\n",
       "      <th>Health</th>\n",
       "      <th>Y</th>\n",
       "      <th>Educ</th>\n",
       "      <th>Unemployment</th>\n",
       "      <th>Corruption</th>\n",
       "      <th>log_Communicable</th>\n",
       "      <th>log_CO2</th>\n",
       "      <th>Year</th>\n",
       "    </tr>\n",
       "    <tr>\n",
       "      <th>Country Code</th>\n",
       "      <th>Year</th>\n",
       "      <th></th>\n",
       "      <th></th>\n",
       "      <th></th>\n",
       "      <th></th>\n",
       "      <th></th>\n",
       "      <th></th>\n",
       "      <th></th>\n",
       "      <th></th>\n",
       "      <th></th>\n",
       "    </tr>\n",
       "  </thead>\n",
       "  <tbody>\n",
       "    <tr>\n",
       "      <th>BEN</th>\n",
       "      <th>2005</th>\n",
       "      <td>12.0</td>\n",
       "      <td>2.934783</td>\n",
       "      <td>57.355</td>\n",
       "      <td>2.656680</td>\n",
       "      <td>0.825</td>\n",
       "      <td>3.5</td>\n",
       "      <td>6.636944</td>\n",
       "      <td>3.462398</td>\n",
       "      <td>2005</td>\n",
       "    </tr>\n",
       "    <tr>\n",
       "      <th>BFA</th>\n",
       "      <th>2005</th>\n",
       "      <td>17.5</td>\n",
       "      <td>3.951091</td>\n",
       "      <td>53.310</td>\n",
       "      <td>3.941140</td>\n",
       "      <td>4.000</td>\n",
       "      <td>3.5</td>\n",
       "      <td>7.000503</td>\n",
       "      <td>3.025306</td>\n",
       "      <td>2005</td>\n",
       "    </tr>\n",
       "    <tr>\n",
       "      <th>CAF</th>\n",
       "      <th>2005</th>\n",
       "      <td>39.6</td>\n",
       "      <td>4.367321</td>\n",
       "      <td>44.744</td>\n",
       "      <td>1.652220</td>\n",
       "      <td>5.695</td>\n",
       "      <td>2.5</td>\n",
       "      <td>6.575926</td>\n",
       "      <td>2.342423</td>\n",
       "      <td>2005</td>\n",
       "    </tr>\n",
       "    <tr>\n",
       "      <th>CMR</th>\n",
       "      <th>2005</th>\n",
       "      <td>15.9</td>\n",
       "      <td>4.095445</td>\n",
       "      <td>52.760</td>\n",
       "      <td>2.656520</td>\n",
       "      <td>4.400</td>\n",
       "      <td>2.5</td>\n",
       "      <td>7.037198</td>\n",
       "      <td>3.700704</td>\n",
       "      <td>2005</td>\n",
       "    </tr>\n",
       "    <tr>\n",
       "      <th>ETH</th>\n",
       "      <th>2005</th>\n",
       "      <td>37.1</td>\n",
       "      <td>4.100981</td>\n",
       "      <td>56.223</td>\n",
       "      <td>7.422080</td>\n",
       "      <td>2.500</td>\n",
       "      <td>2.5</td>\n",
       "      <td>7.610563</td>\n",
       "      <td>3.703291</td>\n",
       "      <td>2005</td>\n",
       "    </tr>\n",
       "    <tr>\n",
       "      <th>...</th>\n",
       "      <th>...</th>\n",
       "      <td>...</td>\n",
       "      <td>...</td>\n",
       "      <td>...</td>\n",
       "      <td>...</td>\n",
       "      <td>...</td>\n",
       "      <td>...</td>\n",
       "      <td>...</td>\n",
       "      <td>...</td>\n",
       "      <td>...</td>\n",
       "    </tr>\n",
       "    <tr>\n",
       "      <th>SEN</th>\n",
       "      <th>2019</th>\n",
       "      <td>7.4</td>\n",
       "      <td>4.132269</td>\n",
       "      <td>67.941</td>\n",
       "      <td>5.348875</td>\n",
       "      <td>2.860</td>\n",
       "      <td>3.5</td>\n",
       "      <td>6.465340</td>\n",
       "      <td>4.026125</td>\n",
       "      <td>2019</td>\n",
       "    </tr>\n",
       "    <tr>\n",
       "      <th>SLE</th>\n",
       "      <th>2019</th>\n",
       "      <td>27.9</td>\n",
       "      <td>8.749766</td>\n",
       "      <td>54.696</td>\n",
       "      <td>7.447010</td>\n",
       "      <td>4.649</td>\n",
       "      <td>3.0</td>\n",
       "      <td>6.484336</td>\n",
       "      <td>2.954242</td>\n",
       "      <td>2019</td>\n",
       "    </tr>\n",
       "    <tr>\n",
       "      <th>TCD</th>\n",
       "      <th>2019</th>\n",
       "      <td>31.7</td>\n",
       "      <td>4.353631</td>\n",
       "      <td>54.239</td>\n",
       "      <td>2.372460</td>\n",
       "      <td>1.123</td>\n",
       "      <td>2.5</td>\n",
       "      <td>6.929261</td>\n",
       "      <td>3.352183</td>\n",
       "      <td>2019</td>\n",
       "    </tr>\n",
       "    <tr>\n",
       "      <th>TGO</th>\n",
       "      <th>2019</th>\n",
       "      <td>20.1</td>\n",
       "      <td>5.726069</td>\n",
       "      <td>61.042</td>\n",
       "      <td>4.069143</td>\n",
       "      <td>3.719</td>\n",
       "      <td>3.0</td>\n",
       "      <td>6.299435</td>\n",
       "      <td>3.374748</td>\n",
       "      <td>2019</td>\n",
       "    </tr>\n",
       "    <tr>\n",
       "      <th>TZA</th>\n",
       "      <th>2019</th>\n",
       "      <td>23.4</td>\n",
       "      <td>3.827693</td>\n",
       "      <td>65.456</td>\n",
       "      <td>3.596836</td>\n",
       "      <td>2.222</td>\n",
       "      <td>3.0</td>\n",
       "      <td>7.125191</td>\n",
       "      <td>4.095169</td>\n",
       "      <td>2019</td>\n",
       "    </tr>\n",
       "  </tbody>\n",
       "</table>\n",
       "<p>285 rows × 9 columns</p>\n",
       "</div>"
      ],
      "text/plain": [
       "                   Undernourishment    Health       Y      Educ  Unemployment  \\\n",
       "Country Code Year                                                               \n",
       "BEN          2005              12.0  2.934783  57.355  2.656680         0.825   \n",
       "BFA          2005              17.5  3.951091  53.310  3.941140         4.000   \n",
       "CAF          2005              39.6  4.367321  44.744  1.652220         5.695   \n",
       "CMR          2005              15.9  4.095445  52.760  2.656520         4.400   \n",
       "ETH          2005              37.1  4.100981  56.223  7.422080         2.500   \n",
       "...                             ...       ...     ...       ...           ...   \n",
       "SEN          2019               7.4  4.132269  67.941  5.348875         2.860   \n",
       "SLE          2019              27.9  8.749766  54.696  7.447010         4.649   \n",
       "TCD          2019              31.7  4.353631  54.239  2.372460         1.123   \n",
       "TGO          2019              20.1  5.726069  61.042  4.069143         3.719   \n",
       "TZA          2019              23.4  3.827693  65.456  3.596836         2.222   \n",
       "\n",
       "                   Corruption  log_Communicable   log_CO2  Year  \n",
       "Country Code Year                                                \n",
       "BEN          2005         3.5          6.636944  3.462398  2005  \n",
       "BFA          2005         3.5          7.000503  3.025306  2005  \n",
       "CAF          2005         2.5          6.575926  2.342423  2005  \n",
       "CMR          2005         2.5          7.037198  3.700704  2005  \n",
       "ETH          2005         2.5          7.610563  3.703291  2005  \n",
       "...                       ...               ...       ...   ...  \n",
       "SEN          2019         3.5          6.465340  4.026125  2019  \n",
       "SLE          2019         3.0          6.484336  2.954242  2019  \n",
       "TCD          2019         2.5          6.929261  3.352183  2019  \n",
       "TGO          2019         3.0          6.299435  3.374748  2019  \n",
       "TZA          2019         3.0          7.125191  4.095169  2019  \n",
       "\n",
       "[285 rows x 9 columns]"
      ]
     },
     "execution_count": 21,
     "metadata": {},
     "output_type": "execute_result"
    }
   ],
   "source": [
    "pdf.drop(columns = ['log_NonCommunicable', 'log_Injuries'], inplace = True )\n",
    "pdf"
   ]
  },
  {
   "cell_type": "markdown",
   "metadata": {},
   "source": [
    "## Panel Data Modelling"
   ]
  },
  {
   "cell_type": "markdown",
   "metadata": {},
   "source": [
    "### Pooled OLS "
   ]
  },
  {
   "cell_type": "code",
   "execution_count": 22,
   "metadata": {
    "pycharm": {
     "is_executing": true
    }
   },
   "outputs": [],
   "source": [
    "# Perform PooledOLS\n",
    "from linearmodels import PooledOLS\n",
    "import statsmodels.api as sm\n"
   ]
  },
  {
   "cell_type": "code",
   "execution_count": 23,
   "metadata": {
    "pycharm": {
     "is_executing": true
    }
   },
   "outputs": [
    {
     "data": {
      "text/html": [
       "<div>\n",
       "<style scoped>\n",
       "    .dataframe tbody tr th:only-of-type {\n",
       "        vertical-align: middle;\n",
       "    }\n",
       "\n",
       "    .dataframe tbody tr th {\n",
       "        vertical-align: top;\n",
       "    }\n",
       "\n",
       "    .dataframe thead th {\n",
       "        text-align: right;\n",
       "    }\n",
       "</style>\n",
       "<table border=\"1\" class=\"dataframe\">\n",
       "  <thead>\n",
       "    <tr style=\"text-align: right;\">\n",
       "      <th></th>\n",
       "      <th></th>\n",
       "      <th>Undernourishment</th>\n",
       "      <th>Health</th>\n",
       "      <th>Y</th>\n",
       "      <th>Educ</th>\n",
       "      <th>Unemployment</th>\n",
       "      <th>Corruption</th>\n",
       "      <th>log_Communicable</th>\n",
       "      <th>log_CO2</th>\n",
       "      <th>Year</th>\n",
       "    </tr>\n",
       "    <tr>\n",
       "      <th>Country Code</th>\n",
       "      <th>Year</th>\n",
       "      <th></th>\n",
       "      <th></th>\n",
       "      <th></th>\n",
       "      <th></th>\n",
       "      <th></th>\n",
       "      <th></th>\n",
       "      <th></th>\n",
       "      <th></th>\n",
       "      <th></th>\n",
       "    </tr>\n",
       "  </thead>\n",
       "  <tbody>\n",
       "    <tr>\n",
       "      <th>BEN</th>\n",
       "      <th>2005</th>\n",
       "      <td>12.0</td>\n",
       "      <td>2.934783</td>\n",
       "      <td>57.355</td>\n",
       "      <td>2.656680</td>\n",
       "      <td>0.825</td>\n",
       "      <td>3.5</td>\n",
       "      <td>6.636944</td>\n",
       "      <td>3.462398</td>\n",
       "      <td>2005</td>\n",
       "    </tr>\n",
       "    <tr>\n",
       "      <th>BFA</th>\n",
       "      <th>2005</th>\n",
       "      <td>17.5</td>\n",
       "      <td>3.951091</td>\n",
       "      <td>53.310</td>\n",
       "      <td>3.941140</td>\n",
       "      <td>4.000</td>\n",
       "      <td>3.5</td>\n",
       "      <td>7.000503</td>\n",
       "      <td>3.025306</td>\n",
       "      <td>2005</td>\n",
       "    </tr>\n",
       "    <tr>\n",
       "      <th>CAF</th>\n",
       "      <th>2005</th>\n",
       "      <td>39.6</td>\n",
       "      <td>4.367321</td>\n",
       "      <td>44.744</td>\n",
       "      <td>1.652220</td>\n",
       "      <td>5.695</td>\n",
       "      <td>2.5</td>\n",
       "      <td>6.575926</td>\n",
       "      <td>2.342423</td>\n",
       "      <td>2005</td>\n",
       "    </tr>\n",
       "    <tr>\n",
       "      <th>CMR</th>\n",
       "      <th>2005</th>\n",
       "      <td>15.9</td>\n",
       "      <td>4.095445</td>\n",
       "      <td>52.760</td>\n",
       "      <td>2.656520</td>\n",
       "      <td>4.400</td>\n",
       "      <td>2.5</td>\n",
       "      <td>7.037198</td>\n",
       "      <td>3.700704</td>\n",
       "      <td>2005</td>\n",
       "    </tr>\n",
       "    <tr>\n",
       "      <th>ETH</th>\n",
       "      <th>2005</th>\n",
       "      <td>37.1</td>\n",
       "      <td>4.100981</td>\n",
       "      <td>56.223</td>\n",
       "      <td>7.422080</td>\n",
       "      <td>2.500</td>\n",
       "      <td>2.5</td>\n",
       "      <td>7.610563</td>\n",
       "      <td>3.703291</td>\n",
       "      <td>2005</td>\n",
       "    </tr>\n",
       "    <tr>\n",
       "      <th>...</th>\n",
       "      <th>...</th>\n",
       "      <td>...</td>\n",
       "      <td>...</td>\n",
       "      <td>...</td>\n",
       "      <td>...</td>\n",
       "      <td>...</td>\n",
       "      <td>...</td>\n",
       "      <td>...</td>\n",
       "      <td>...</td>\n",
       "      <td>...</td>\n",
       "    </tr>\n",
       "    <tr>\n",
       "      <th>SEN</th>\n",
       "      <th>2019</th>\n",
       "      <td>7.4</td>\n",
       "      <td>4.132269</td>\n",
       "      <td>67.941</td>\n",
       "      <td>5.348875</td>\n",
       "      <td>2.860</td>\n",
       "      <td>3.5</td>\n",
       "      <td>6.465340</td>\n",
       "      <td>4.026125</td>\n",
       "      <td>2019</td>\n",
       "    </tr>\n",
       "    <tr>\n",
       "      <th>SLE</th>\n",
       "      <th>2019</th>\n",
       "      <td>27.9</td>\n",
       "      <td>8.749766</td>\n",
       "      <td>54.696</td>\n",
       "      <td>7.447010</td>\n",
       "      <td>4.649</td>\n",
       "      <td>3.0</td>\n",
       "      <td>6.484336</td>\n",
       "      <td>2.954242</td>\n",
       "      <td>2019</td>\n",
       "    </tr>\n",
       "    <tr>\n",
       "      <th>TCD</th>\n",
       "      <th>2019</th>\n",
       "      <td>31.7</td>\n",
       "      <td>4.353631</td>\n",
       "      <td>54.239</td>\n",
       "      <td>2.372460</td>\n",
       "      <td>1.123</td>\n",
       "      <td>2.5</td>\n",
       "      <td>6.929261</td>\n",
       "      <td>3.352183</td>\n",
       "      <td>2019</td>\n",
       "    </tr>\n",
       "    <tr>\n",
       "      <th>TGO</th>\n",
       "      <th>2019</th>\n",
       "      <td>20.1</td>\n",
       "      <td>5.726069</td>\n",
       "      <td>61.042</td>\n",
       "      <td>4.069143</td>\n",
       "      <td>3.719</td>\n",
       "      <td>3.0</td>\n",
       "      <td>6.299435</td>\n",
       "      <td>3.374748</td>\n",
       "      <td>2019</td>\n",
       "    </tr>\n",
       "    <tr>\n",
       "      <th>TZA</th>\n",
       "      <th>2019</th>\n",
       "      <td>23.4</td>\n",
       "      <td>3.827693</td>\n",
       "      <td>65.456</td>\n",
       "      <td>3.596836</td>\n",
       "      <td>2.222</td>\n",
       "      <td>3.0</td>\n",
       "      <td>7.125191</td>\n",
       "      <td>4.095169</td>\n",
       "      <td>2019</td>\n",
       "    </tr>\n",
       "  </tbody>\n",
       "</table>\n",
       "<p>285 rows × 9 columns</p>\n",
       "</div>"
      ],
      "text/plain": [
       "                   Undernourishment    Health       Y      Educ  Unemployment  \\\n",
       "Country Code Year                                                               \n",
       "BEN          2005              12.0  2.934783  57.355  2.656680         0.825   \n",
       "BFA          2005              17.5  3.951091  53.310  3.941140         4.000   \n",
       "CAF          2005              39.6  4.367321  44.744  1.652220         5.695   \n",
       "CMR          2005              15.9  4.095445  52.760  2.656520         4.400   \n",
       "ETH          2005              37.1  4.100981  56.223  7.422080         2.500   \n",
       "...                             ...       ...     ...       ...           ...   \n",
       "SEN          2019               7.4  4.132269  67.941  5.348875         2.860   \n",
       "SLE          2019              27.9  8.749766  54.696  7.447010         4.649   \n",
       "TCD          2019              31.7  4.353631  54.239  2.372460         1.123   \n",
       "TGO          2019              20.1  5.726069  61.042  4.069143         3.719   \n",
       "TZA          2019              23.4  3.827693  65.456  3.596836         2.222   \n",
       "\n",
       "                   Corruption  log_Communicable   log_CO2  Year  \n",
       "Country Code Year                                                \n",
       "BEN          2005         3.5          6.636944  3.462398  2005  \n",
       "BFA          2005         3.5          7.000503  3.025306  2005  \n",
       "CAF          2005         2.5          6.575926  2.342423  2005  \n",
       "CMR          2005         2.5          7.037198  3.700704  2005  \n",
       "ETH          2005         2.5          7.610563  3.703291  2005  \n",
       "...                       ...               ...       ...   ...  \n",
       "SEN          2019         3.5          6.465340  4.026125  2019  \n",
       "SLE          2019         3.0          6.484336  2.954242  2019  \n",
       "TCD          2019         2.5          6.929261  3.352183  2019  \n",
       "TGO          2019         3.0          6.299435  3.374748  2019  \n",
       "TZA          2019         3.0          7.125191  4.095169  2019  \n",
       "\n",
       "[285 rows x 9 columns]"
      ]
     },
     "execution_count": 23,
     "metadata": {},
     "output_type": "execute_result"
    }
   ],
   "source": [
    "pdf\n"
   ]
  },
  {
   "cell_type": "code",
   "execution_count": 24,
   "metadata": {
    "pycharm": {
     "is_executing": true
    }
   },
   "outputs": [
    {
     "data": {
      "text/html": [
       "<div>\n",
       "<style scoped>\n",
       "    .dataframe tbody tr th:only-of-type {\n",
       "        vertical-align: middle;\n",
       "    }\n",
       "\n",
       "    .dataframe tbody tr th {\n",
       "        vertical-align: top;\n",
       "    }\n",
       "\n",
       "    .dataframe thead th {\n",
       "        text-align: right;\n",
       "    }\n",
       "</style>\n",
       "<table border=\"1\" class=\"dataframe\">\n",
       "  <thead>\n",
       "    <tr style=\"text-align: right;\">\n",
       "      <th></th>\n",
       "      <th></th>\n",
       "      <th>Undernourishment</th>\n",
       "      <th>log_CO2</th>\n",
       "      <th>Health</th>\n",
       "      <th>Educ</th>\n",
       "      <th>Unemployment</th>\n",
       "      <th>Corruption</th>\n",
       "      <th>log_Communicable</th>\n",
       "    </tr>\n",
       "    <tr>\n",
       "      <th>Country Code</th>\n",
       "      <th>Year</th>\n",
       "      <th></th>\n",
       "      <th></th>\n",
       "      <th></th>\n",
       "      <th></th>\n",
       "      <th></th>\n",
       "      <th></th>\n",
       "      <th></th>\n",
       "    </tr>\n",
       "  </thead>\n",
       "  <tbody>\n",
       "    <tr>\n",
       "      <th>BEN</th>\n",
       "      <th>2005</th>\n",
       "      <td>12.0</td>\n",
       "      <td>3.462398</td>\n",
       "      <td>2.934783</td>\n",
       "      <td>2.656680</td>\n",
       "      <td>0.825</td>\n",
       "      <td>3.5</td>\n",
       "      <td>6.636944</td>\n",
       "    </tr>\n",
       "    <tr>\n",
       "      <th>BFA</th>\n",
       "      <th>2005</th>\n",
       "      <td>17.5</td>\n",
       "      <td>3.025306</td>\n",
       "      <td>3.951091</td>\n",
       "      <td>3.941140</td>\n",
       "      <td>4.000</td>\n",
       "      <td>3.5</td>\n",
       "      <td>7.000503</td>\n",
       "    </tr>\n",
       "    <tr>\n",
       "      <th>CAF</th>\n",
       "      <th>2005</th>\n",
       "      <td>39.6</td>\n",
       "      <td>2.342423</td>\n",
       "      <td>4.367321</td>\n",
       "      <td>1.652220</td>\n",
       "      <td>5.695</td>\n",
       "      <td>2.5</td>\n",
       "      <td>6.575926</td>\n",
       "    </tr>\n",
       "    <tr>\n",
       "      <th>CMR</th>\n",
       "      <th>2005</th>\n",
       "      <td>15.9</td>\n",
       "      <td>3.700704</td>\n",
       "      <td>4.095445</td>\n",
       "      <td>2.656520</td>\n",
       "      <td>4.400</td>\n",
       "      <td>2.5</td>\n",
       "      <td>7.037198</td>\n",
       "    </tr>\n",
       "    <tr>\n",
       "      <th>ETH</th>\n",
       "      <th>2005</th>\n",
       "      <td>37.1</td>\n",
       "      <td>3.703291</td>\n",
       "      <td>4.100981</td>\n",
       "      <td>7.422080</td>\n",
       "      <td>2.500</td>\n",
       "      <td>2.5</td>\n",
       "      <td>7.610563</td>\n",
       "    </tr>\n",
       "    <tr>\n",
       "      <th>...</th>\n",
       "      <th>...</th>\n",
       "      <td>...</td>\n",
       "      <td>...</td>\n",
       "      <td>...</td>\n",
       "      <td>...</td>\n",
       "      <td>...</td>\n",
       "      <td>...</td>\n",
       "      <td>...</td>\n",
       "    </tr>\n",
       "    <tr>\n",
       "      <th>SEN</th>\n",
       "      <th>2019</th>\n",
       "      <td>7.4</td>\n",
       "      <td>4.026125</td>\n",
       "      <td>4.132269</td>\n",
       "      <td>5.348875</td>\n",
       "      <td>2.860</td>\n",
       "      <td>3.5</td>\n",
       "      <td>6.465340</td>\n",
       "    </tr>\n",
       "    <tr>\n",
       "      <th>SLE</th>\n",
       "      <th>2019</th>\n",
       "      <td>27.9</td>\n",
       "      <td>2.954242</td>\n",
       "      <td>8.749766</td>\n",
       "      <td>7.447010</td>\n",
       "      <td>4.649</td>\n",
       "      <td>3.0</td>\n",
       "      <td>6.484336</td>\n",
       "    </tr>\n",
       "    <tr>\n",
       "      <th>TCD</th>\n",
       "      <th>2019</th>\n",
       "      <td>31.7</td>\n",
       "      <td>3.352183</td>\n",
       "      <td>4.353631</td>\n",
       "      <td>2.372460</td>\n",
       "      <td>1.123</td>\n",
       "      <td>2.5</td>\n",
       "      <td>6.929261</td>\n",
       "    </tr>\n",
       "    <tr>\n",
       "      <th>TGO</th>\n",
       "      <th>2019</th>\n",
       "      <td>20.1</td>\n",
       "      <td>3.374748</td>\n",
       "      <td>5.726069</td>\n",
       "      <td>4.069143</td>\n",
       "      <td>3.719</td>\n",
       "      <td>3.0</td>\n",
       "      <td>6.299435</td>\n",
       "    </tr>\n",
       "    <tr>\n",
       "      <th>TZA</th>\n",
       "      <th>2019</th>\n",
       "      <td>23.4</td>\n",
       "      <td>4.095169</td>\n",
       "      <td>3.827693</td>\n",
       "      <td>3.596836</td>\n",
       "      <td>2.222</td>\n",
       "      <td>3.0</td>\n",
       "      <td>7.125191</td>\n",
       "    </tr>\n",
       "  </tbody>\n",
       "</table>\n",
       "<p>285 rows × 7 columns</p>\n",
       "</div>"
      ],
      "text/plain": [
       "                   Undernourishment   log_CO2    Health      Educ  \\\n",
       "Country Code Year                                                   \n",
       "BEN          2005              12.0  3.462398  2.934783  2.656680   \n",
       "BFA          2005              17.5  3.025306  3.951091  3.941140   \n",
       "CAF          2005              39.6  2.342423  4.367321  1.652220   \n",
       "CMR          2005              15.9  3.700704  4.095445  2.656520   \n",
       "ETH          2005              37.1  3.703291  4.100981  7.422080   \n",
       "...                             ...       ...       ...       ...   \n",
       "SEN          2019               7.4  4.026125  4.132269  5.348875   \n",
       "SLE          2019              27.9  2.954242  8.749766  7.447010   \n",
       "TCD          2019              31.7  3.352183  4.353631  2.372460   \n",
       "TGO          2019              20.1  3.374748  5.726069  4.069143   \n",
       "TZA          2019              23.4  4.095169  3.827693  3.596836   \n",
       "\n",
       "                   Unemployment  Corruption  log_Communicable  \n",
       "Country Code Year                                              \n",
       "BEN          2005         0.825         3.5          6.636944  \n",
       "BFA          2005         4.000         3.5          7.000503  \n",
       "CAF          2005         5.695         2.5          6.575926  \n",
       "CMR          2005         4.400         2.5          7.037198  \n",
       "ETH          2005         2.500         2.5          7.610563  \n",
       "...                         ...         ...               ...  \n",
       "SEN          2019         2.860         3.5          6.465340  \n",
       "SLE          2019         4.649         3.0          6.484336  \n",
       "TCD          2019         1.123         2.5          6.929261  \n",
       "TGO          2019         3.719         3.0          6.299435  \n",
       "TZA          2019         2.222         3.0          7.125191  \n",
       "\n",
       "[285 rows x 7 columns]"
      ]
     },
     "execution_count": 24,
     "metadata": {},
     "output_type": "execute_result"
    }
   ],
   "source": [
    "pdf[['Undernourishment','log_CO2','Health','Educ','Unemployment','Corruption','log_Communicable']]"
   ]
  },
  {
   "cell_type": "code",
   "execution_count": 25,
   "metadata": {
    "pycharm": {
     "is_executing": true
    }
   },
   "outputs": [],
   "source": [
    "X = sm.tools.tools.add_constant(pdf[['Undernourishment','log_CO2','Health','Educ','Unemployment','Corruption','log_Communicable']])\n"
   ]
  },
  {
   "cell_type": "code",
   "execution_count": null,
   "metadata": {
    "pycharm": {
     "is_executing": true
    }
   },
   "outputs": [],
   "source": []
  },
  {
   "cell_type": "code",
   "execution_count": 26,
   "metadata": {
    "pycharm": {
     "is_executing": true
    }
   },
   "outputs": [],
   "source": [
    "Y = pdf['Y']\n",
    "mod = PooledOLS(Y, X)\n",
    "pooledOLS_res = mod.fit(cov_type='clustered', cluster_entity=True)\n",
    "# Store values for checking homoskedasticity graphically\n",
    "fittedvals_pooled_OLS = pooledOLS_res.predict().fitted_values\n",
    "residuals_pooled_OLS = pooledOLS_res.resids"
   ]
  },
  {
   "cell_type": "code",
   "execution_count": 27,
   "metadata": {
    "pycharm": {
     "is_executing": true
    }
   },
   "outputs": [
    {
     "data": {
      "image/png": "[encoded data removed]",
      "text/plain": [
       "<Figure size 1080x432 with 1 Axes>"
      ]
     },
     "metadata": {
      "needs_background": "light"
     },
     "output_type": "display_data"
    }
   ],
   "source": [
    "import matplotlib.pyplot as plt\n",
    " # 3A.1 Residuals-Plot for growing Variance Detection\n",
    "from matplotlib.pylab import rcParams\n",
    "rcParams['figure.figsize'] = 15, 6\n",
    "fig, ax = plt.subplots()\n",
    "ax.scatter(fittedvals_pooled_OLS, residuals_pooled_OLS, color = 'b')\n",
    "ax.axhline(0, color = 'r', ls = '--')\n",
    "ax.set_xlabel('Predicted Values', fontsize = 10)\n",
    "ax.set_ylabel('Residuals', fontsize = 10)\n",
    "ax.set_title('Homoskedasticity Test', fontsize = 10)\n",
    "plt.show()"
   ]
  },
  {
   "cell_type": "code",
   "execution_count": 28,
   "metadata": {
    "pycharm": {
     "is_executing": true
    }
   },
   "outputs": [
    {
     "name": "stdout",
     "output_type": "stream",
     "text": [
      "                          PooledOLS Estimation Summary                          \n",
      "================================================================================\n",
      "Dep. Variable:                      Y   R-squared:                        0.6638\n",
      "Estimator:                  PooledOLS   R-squared (Between):              0.6684\n",
      "No. Observations:                 285   R-squared (Within):               0.6500\n",
      "Date:                Fri, Apr 21 2023   R-squared (Overall):              0.6638\n",
      "Time:                        02:40:33   Log-likelihood                   -759.38\n",
      "Cov. Estimator:             Clustered                                           \n",
      "                                        F-statistic:                      78.140\n",
      "Entities:                          19   P-value                           0.0000\n",
      "Avg Obs:                       15.000   Distribution:                   F(7,277)\n",
      "Min Obs:                       15.000                                           \n",
      "Max Obs:                       15.000   F-statistic (robust):             34.400\n",
      "                                        P-value                           0.0000\n",
      "Time periods:                      15   Distribution:                   F(7,277)\n",
      "Avg Obs:                       19.000                                           \n",
      "Min Obs:                       19.000                                           \n",
      "Max Obs:                       19.000                                           \n",
      "                                                                                \n",
      "                                Parameter Estimates                                 \n",
      "====================================================================================\n",
      "                  Parameter  Std. Err.     T-stat    P-value    Lower CI    Upper CI\n",
      "------------------------------------------------------------------------------------\n",
      "const                79.539     11.982     6.6380     0.0000      55.951      103.13\n",
      "Undernourishment     0.1048     0.0997     1.0513     0.2940     -0.0914      0.3010\n",
      "log_CO2              9.9371     1.3358     7.4392     0.0000      7.3076      12.567\n",
      "Health              -0.0245     0.3904    -0.0626     0.9501     -0.7930      0.7441\n",
      "Educ                 0.1296     0.2998     0.4323     0.6658     -0.4606      0.7199\n",
      "Unemployment        -0.4614     0.1442    -3.1991     0.0015     -0.7453     -0.1775\n",
      "Corruption           2.0094     1.7485     1.1492     0.2515     -1.4326      5.4514\n",
      "log_Communicable    -9.1163     1.8974    -4.8046     0.0000     -12.852     -5.3812\n",
      "====================================================================================\n"
     ]
    }
   ],
   "source": [
    "print(pooledOLS_res)"
   ]
  },
  {
   "cell_type": "code",
   "execution_count": 29,
   "metadata": {
    "pycharm": {
     "is_executing": true
    }
   },
   "outputs": [
    {
     "name": "stdout",
     "output_type": "stream",
     "text": [
      "{'LM-Stat': 180.8199786214924, 'LM p-val': 1.4675901304390314e-21, 'F-Stat': 12.34790484531152, 'F p-val': 3.0158471653341463e-37}\n"
     ]
    }
   ],
   "source": [
    "from statsmodels.stats.diagnostic import het_white, het_breuschpagan\n",
    "pooled_OLS_dataset = pd.concat([pdf, residuals_pooled_OLS], axis=1)\n",
    "pooled_OLS_dataset = pooled_OLS_dataset.drop(['Year'], axis = 1).fillna(0)\n",
    "#exog = sm.tools.tools.add_constant(dataset['income']).fillna(0)\n",
    "white_test_results = het_white(pooled_OLS_dataset['residual'], X)\n",
    "labels = ['LM-Stat', 'LM p-val', 'F-Stat', 'F p-val'] \n",
    "print(dict(zip(labels, white_test_results)))"
   ]
  },
  {
   "cell_type": "code",
   "execution_count": 30,
   "metadata": {
    "pycharm": {
     "is_executing": true
    }
   },
   "outputs": [
    {
     "name": "stdout",
     "output_type": "stream",
     "text": [
      "{'LM-Stat': 54.816254116626475, 'LM p-val': 1.6212552500564528e-09, 'F-Stat': 9.42359103595613, 'F p-val': 1.7379931209131092e-10}\n"
     ]
    }
   ],
   "source": [
    "breusch_pagan_test_results = het_breuschpagan(pooled_OLS_dataset['residual'], X)\n",
    "\n",
    "print(dict(zip(labels, breusch_pagan_test_results)))"
   ]
  },
  {
   "cell_type": "code",
   "execution_count": null,
   "metadata": {
    "pycharm": {
     "is_executing": true
    }
   },
   "outputs": [],
   "source": [
    "from statsmodels.stats.stattools import durbin_watson\n",
    "\n",
    "durbin_watson_test_results = durbin_watson(pooled_OLS_dataset['residual']) \n",
    "print(durbin_watson_test_results)"
   ]
  },
  {
   "cell_type": "code",
   "execution_count": null,
   "metadata": {
    "pycharm": {
     "is_executing": true
    }
   },
   "outputs": [],
   "source": [
    "sm.stats.acorr_ljungbox(pooled_OLS_dataset['residual'], return_df=True)"
   ]
  },
  {
   "cell_type": "code",
   "execution_count": null,
   "metadata": {
    "pycharm": {
     "is_executing": true
    }
   },
   "outputs": [],
   "source": [
    "# FE und RE model\n",
    "from linearmodels import PanelOLS\n",
    "from linearmodels import RandomEffects\n",
    "# random effects model\n",
    "model_re = RandomEffects(Y, X) \n",
    "re_res = model_re.fit() \n",
    "# fixed effects model\n",
    "model_fe = PanelOLS(Y, X, entity_effects = True) \n",
    "fe_res = model_fe.fit() \n",
    "#print results\n",
    "print(re_res)\n"
   ]
  },
  {
   "cell_type": "code",
   "execution_count": null,
   "metadata": {
    "pycharm": {
     "is_executing": true
    }
   },
   "outputs": [],
   "source": [
    "print(fe_res)"
   ]
  },
  {
   "cell_type": "code",
   "execution_count": null,
   "metadata": {
    "pycharm": {
     "is_executing": true
    }
   },
   "outputs": [],
   "source": [
    "import numpy.linalg as la\n",
    "from scipy import stats\n",
    "import numpy as np\n",
    "\n",
    "def hausman(fe, re):\n",
    "    b = fe.params\n",
    "    B = re.params\n",
    "    v_b = fe.cov\n",
    "    v_B = re.cov\n",
    "    df = b[np.abs(b) < 1e8].size\n",
    "    chi2 = np.dot((b - B).T, la.inv(v_b - v_B).dot(b - B))\n",
    "\n",
    "    pval = stats.chi2.sf(chi2, df)\n",
    "    return chi2, df, pval"
   ]
  },
  {
   "cell_type": "code",
   "execution_count": null,
   "metadata": {
    "pycharm": {
     "is_executing": true
    }
   },
   "outputs": [],
   "source": [
    "hausman_results = hausman(fe_res, re_res) \n",
    "print('chi-Squared:' + str(hausman_results[0]))\n",
    "print('degrees of freedom: ' + str(hausman_results[1]))\n",
    "print('p-Value: ' + str(hausman_results[2]))"
   ]
  },
  {
   "cell_type": "code",
   "execution_count": null,
   "metadata": {
    "pycharm": {
     "is_executing": true
    }
   },
   "outputs": [],
   "source": [
    "fe_res.params"
   ]
  },
  {
   "cell_type": "code",
   "execution_count": null,
   "metadata": {
    "pycharm": {
     "is_executing": true
    }
   },
   "outputs": [],
   "source": [
    "print(type(fe_res.params))"
   ]
  },
  {
   "cell_type": "code",
   "execution_count": null,
   "metadata": {
    "pycharm": {
     "is_executing": true
    }
   },
   "outputs": [],
   "source": [
    "corr_matrix = pdf[['Undernourishment','log_CO2','Health','Educ','Unemployment','Corruption','log_Communicable']].corr()\n",
    "sn.heatmap(corr_matrix, annot=True)\n",
    "plt.title(\"Correlation Matrix of Independent Variables\", size = 15)\n",
    "plt.show()"
   ]
  },
  {
   "cell_type": "code",
   "execution_count": null,
   "metadata": {
    "pycharm": {
     "is_executing": true
    }
   },
   "outputs": [],
   "source": [
    "ax = sn.heatmap(corr_matrix, annot=True)\n",
    "ax.set(xlabel=\"\", ylabel=\"\")\n",
    "ax.xaxis.tick_top()"
   ]
  },
  {
   "cell_type": "code",
   "execution_count": null,
   "metadata": {
    "pycharm": {
     "is_executing": true
    }
   },
   "outputs": [],
   "source": [
    "!jt -t grade3 -dfs 13 -ofs 13 -tfs 17 -cellw 100%"
   ]
  },
  {
   "cell_type": "code",
   "execution_count": null,
   "metadata": {
    "pycharm": {
     "is_executing": true
    }
   },
   "outputs": [],
   "source": []
  }
 ],
 "metadata": {
  "kernelspec": {
   "display_name": "Python 3",
   "language": "python",
   "name": "python3"
  },
  "language_info": {
   "codemirror_mode": {
    "name": "ipython",
    "version": 3
   },
   "file_extension": ".py",
   "mimetype": "text/x-python",
   "name": "python",
   "nbconvert_exporter": "python",
   "pygments_lexer": "ipython3",
   "version": "3.8.8"
  }
 },
 "nbformat": 4,
 "nbformat_minor": 1
}