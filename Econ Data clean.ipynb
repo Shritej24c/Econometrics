{
 "cells": [
  {
   "cell_type": "code",
   "execution_count": null,
   "metadata": {
    "pycharm": {
     "is_executing": true
    }
   },
   "outputs": [],
   "source": [
    "!pip install jupyterthemes\n",
    "!pip install --upgrade jupyterthemes"
   ]
  },
  {
   "cell_type": "code",
   "execution_count": null,
   "metadata": {
    "pycharm": {
     "is_executing": true
    }
   },
   "outputs": [],
   "source": [
    "!pip install seaborn"
   ]
  },
  {
   "cell_type": "code",
   "execution_count": null,
   "metadata": {
    "pycharm": {
     "is_executing": true
    }
   },
   "outputs": [],
   "source": [
    "!pip install linearmodels"
   ]
  },
  {
   "cell_type": "code",
   "execution_count": null,
   "metadata": {
    "pycharm": {
     "is_executing": true
    }
   },
   "outputs": [],
   "source": [
    "!pip install statsmodels "
   ]
  },
  {
   "cell_type": "code",
   "execution_count": null,
   "metadata": {
    "pycharm": {
     "is_executing": true
    },
    "scrolled": true
   },
   "outputs": [],
   "source": [
    "!pip install xlrd"
   ]
  },
  {
   "cell_type": "code",
   "execution_count": null,
   "metadata": {
    "pycharm": {
     "is_executing": true
    }
   },
   "outputs": [],
   "source": [
    "import pandas as pd\n",
    "import numpy as np\n",
    "import os\n",
    "import seaborn as sn"
   ]
  },
  {
   "cell_type": "code",
   "execution_count": null,
   "metadata": {
    "pycharm": {
     "is_executing": true
    }
   },
   "outputs": [],
   "source": [
    "dr = \"/Users/shritej/Documents/Masters Courses/Quanquan Liu/Data/Excel/\"\n",
    "\n",
    "crrptn = pd.read_excel(dr+\"Corruption.xls\", sheet_name = \"Data\")\n",
    "crrptn.head()"
   ]
  },
  {
   "cell_type": "code",
   "execution_count": null,
   "metadata": {
    "pycharm": {
     "is_executing": true
    }
   },
   "outputs": [],
   "source": [
    "crrptn.shape[1]"
   ]
  },
  {
   "cell_type": "code",
   "execution_count": null,
   "metadata": {
    "pycharm": {
     "is_executing": true
    }
   },
   "outputs": [],
   "source": [
    "crrptn.iloc[2]\n"
   ]
  },
  {
   "cell_type": "code",
   "execution_count": null,
   "metadata": {
    "pycharm": {
     "is_executing": true
    }
   },
   "outputs": [],
   "source": [
    "crrptn.loc[:,\"Unnamed: 44\"]"
   ]
  },
  {
   "cell_type": "code",
   "execution_count": null,
   "metadata": {
    "pycharm": {
     "is_executing": true
    }
   },
   "outputs": [],
   "source": [
    "drp_col = [\"Unnamed: \"+ str(i) for i in range(4, 44)]\n",
    "drp_col.extend(['Unnamed: 65', 'Unnamed: 64'])\n",
    "\n",
    "print(drp_col)\n",
    "crp_drpcol = crrptn.drop(columns = drp_col )\n",
    "crp_drpcol"
   ]
  },
  {
   "cell_type": "code",
   "execution_count": null,
   "metadata": {
    "pycharm": {
     "is_executing": true
    }
   },
   "outputs": [],
   "source": [
    "crp = crp_drpcol.iloc[2:, ]\n",
    "crp"
   ]
  },
  {
   "cell_type": "code",
   "execution_count": null,
   "metadata": {
    "pycharm": {
     "is_executing": true
    }
   },
   "outputs": [],
   "source": [
    "crp.iloc[0]"
   ]
  },
  {
   "cell_type": "code",
   "execution_count": null,
   "metadata": {
    "pycharm": {
     "is_executing": true
    }
   },
   "outputs": [],
   "source": [
    "col = []\n",
    "for i in range(crp.shape[1]):\n",
    "    if i < 4:\n",
    "        col.append(crp.iloc[0,i])\n",
    "    else:\n",
    "        col.append(int(crp.iloc[0,i]))\n",
    "        \n",
    "        \n",
    "crp.columns = col\n",
    "crp_df = crp.drop(index = [2])\n",
    "crp_df.reset_index()\n",
    "crp_df"
   ]
  },
  {
   "cell_type": "code",
   "execution_count": null,
   "metadata": {
    "pycharm": {
     "is_executing": true
    }
   },
   "outputs": [],
   "source": [
    "gdp = pd.read_csv(dr+\"gdp21_region.csv\")\n",
    "safr = gdp.loc[gdp['Region'] == \"Sub-Saharan Africa\",[\"Country Name\", \"Country Code\", \"Region\", \"IncomeGroup\", \"2021\"]].sort_values(['2021'], ascending = True).dropna()\n",
    "afr = safr.loc[:, \"Country Code\"].tolist()\n",
    "print(safr.shape)\n",
    "print(safr.head())\n",
    "print(afr)\n"
   ]
  },
  {
   "cell_type": "code",
   "execution_count": null,
   "metadata": {
    "pycharm": {
     "is_executing": true
    }
   },
   "outputs": [],
   "source": [
    "gdp.dropna(inplace = True)\n",
    "print(gdp.shape)\n",
    "print(gdp)\n",
    "countries = gdp.loc[gdp['Region'] == \"Sub-Saharan Africa\", 'Country Code']"
   ]
  },
  {
   "cell_type": "code",
   "execution_count": null,
   "metadata": {
    "pycharm": {
     "is_executing": true
    }
   },
   "outputs": [],
   "source": [
    "meta = pd.read_excel(dr+\"Corruption.xls\", sheet_name = \"Metadata - Countries\")\n",
    "countries = meta.loc[meta['Region'] == \"Sub-Saharan Africa\", 'Country Code']\n",
    "print(len(countries))\n",
    "print(countries)"
   ]
  },
  {
   "cell_type": "code",
   "execution_count": null,
   "metadata": {
    "pycharm": {
     "is_executing": true
    }
   },
   "outputs": [],
   "source": [
    "col_list = crp_df.columns\n",
    "crp_afr_df = crp_df.loc[crp_df['Country Code'].isin(afr)]\n",
    "crp_fdf = pd.melt(crp_afr_df, id_vars = col_list[:4], value_vars = col_list[4:], var_name = \"Year\")\n",
    "crp_fdf"
   ]
  },
  {
   "cell_type": "code",
   "execution_count": null,
   "metadata": {
    "pycharm": {
     "is_executing": true
    }
   },
   "outputs": [],
   "source": [
    "ind = \"Corruption\"\n",
    "crp_fdf.rename(columns = {'value':ind}, inplace = True )\n",
    "crp_fdf.drop(columns = [\"Indicator Name\",\t\"Indicator Code\"], inplace = True)\n",
    "crp_fdf\n"
   ]
  },
  {
   "cell_type": "code",
   "execution_count": null,
   "metadata": {
    "pycharm": {
     "is_executing": true
    }
   },
   "outputs": [],
   "source": [
    "files = os.listdir(dr)\n",
    "print(files)"
   ]
  },
  {
   "cell_type": "code",
   "execution_count": null,
   "metadata": {
    "pycharm": {
     "is_executing": true
    }
   },
   "outputs": [],
   "source": [
    "sd = 'Prevelance of Undernourishment.xls'\n",
    "s = sd.split('.')\n",
    "s"
   ]
  },
  {
   "cell_type": "code",
   "execution_count": null,
   "metadata": {
    "pycharm": {
     "is_executing": true
    }
   },
   "outputs": [],
   "source": [
    "dis_df = pd.read_csv(dr+'total-disease-burden-by-cause.csv')\n",
    "dis_afr_df = dis_df.loc[(dis_df['Code'].isin(afr)) & (dis_df['Year'].isin([x for x in range(2000, 2020)])), :].reset_index(drop = True)\n",
    "dis_afr_df"
   ]
  },
  {
   "cell_type": "code",
   "execution_count": null,
   "metadata": {
    "pycharm": {
     "is_executing": true
    }
   },
   "outputs": [],
   "source": [
    "educ = pd.read_csv(dr+\"total-government-expenditure-on-education-gdp.csv\")\n",
    "educ_df = educ.loc[(educ['Code'].isin(afr)) & (educ['Year'].isin([x for x in range(2000, 2020)])), :].reset_index(drop = True)\n",
    "educ_df"
   ]
  },
  {
   "cell_type": "code",
   "execution_count": null,
   "metadata": {
    "pycharm": {
     "is_executing": true
    }
   },
   "outputs": [],
   "source": [
    "print(len(cont))\n",
    "cont\n"
   ]
  },
  {
   "cell_type": "markdown",
   "metadata": {},
   "source": [
    "## Looping all the Indicators XLS file "
   ]
  },
  {
   "cell_type": "code",
   "execution_count": null,
   "metadata": {
    "pycharm": {
     "is_executing": true
    }
   },
   "outputs": [],
   "source": [
    "gdp = pd.read_csv(dr+\"gdp21_region.csv\")\n",
    "safr = gdp.loc[gdp['Region'] == \"Sub-Saharan Africa\",[\"Country Name\", \"Country Code\", \"Region\", \"IncomeGroup\", \"2021\"]].sort_values(['2021'], ascending = True).dropna()\n",
    "afr = safr.loc[:, \"Country Code\"].tolist()\n",
    "dis_df = pd.read_csv(dr+'total-disease-burden-by-cause.csv')"
   ]
  },
  {
   "cell_type": "code",
   "execution_count": null,
   "metadata": {
    "pycharm": {
     "is_executing": true
    }
   },
   "outputs": [],
   "source": [
    "files = os.listdir(dr)\n",
    "print(files)"
   ]
  },
  {
   "cell_type": "code",
   "execution_count": null,
   "metadata": {
    "pycharm": {
     "is_executing": true
    }
   },
   "outputs": [],
   "source": [
    "drp_col = [\"Unnamed: \"+ str(i) for i in range(4, 44)]\n",
    "drp_col.extend(['Unnamed: 65', 'Unnamed: 64'])\n",
    "\n",
    "\n",
    "for f in range(len(files)):\n",
    "    print(f)\n",
    "    fbr = files[f].split(\".\")\n",
    "    if fbr[1] == 'xls':\n",
    "        ind = fbr[0]\n",
    "        ind_df = pd.read_excel(dr+files[f], sheet_name = \"Data\")\n",
    "        df_drp = ind_df.drop(columns = drp_col )\n",
    "        df_main = df_drp.iloc[2:, ]\n",
    "        col = []\n",
    "        for i in range(df_main.shape[1]):\n",
    "            if i < 4:\n",
    "                col.append(df_main.iloc[0,i])\n",
    "            else:\n",
    "                col.append(int(df_main.iloc[0,i]))\n",
    "\n",
    "\n",
    "        df_main.columns = col\n",
    "        df = df_main.drop(index = [2])\n",
    "        df.reset_index()\n",
    "        col_list = df.columns\n",
    "        df_afr = df.loc[crp_df['Country Code'].isin(afr)]\n",
    "        dfi = pd.melt(df_afr, id_vars = col_list[:4], value_vars = col_list[4:], var_name = \"Year\")  \n",
    "        dfi.rename(columns = {'value':ind}, inplace = True )\n",
    "        dfi.drop(columns = [\"Indicator Name\",\t\"Indicator Code\"], inplace = True)\n",
    "        if f == 0: \n",
    "            df_real = dfi\n",
    "            print(dfi)\n",
    "        else: \n",
    "            df_real = pd.merge(df_real, dfi, on = [\"Country Name\", \"Country Code\", \"Year\"], how = 'inner')\n",
    "\n",
    "df_real\n",
    "        "
   ]
  },
  {
   "cell_type": "code",
   "execution_count": null,
   "metadata": {
    "pycharm": {
     "is_executing": true
    }
   },
   "outputs": [],
   "source": [
    "crp_fdf"
   ]
  },
  {
   "cell_type": "code",
   "execution_count": null,
   "metadata": {
    "pycharm": {
     "is_executing": true
    },
    "scrolled": true
   },
   "outputs": [],
   "source": [
    "dfi.loc[dfi['Country Code'] == 'CMR', ]"
   ]
  },
  {
   "cell_type": "code",
   "execution_count": null,
   "metadata": {
    "pycharm": {
     "is_executing": true
    }
   },
   "outputs": [],
   "source": [
    "df_master = pd.DataFrame(columns = [\"Country Name\", \"Country Code\", \"Year\"])\n"
   ]
  },
  {
   "cell_type": "code",
   "execution_count": null,
   "metadata": {
    "pycharm": {
     "is_executing": true
    }
   },
   "outputs": [],
   "source": [
    "df_merge = pd.merge(crp_fdf, dfi, on = [\"Country Name\", \"Country Code\", \"Year\"], how = 'inner')\n",
    "df_merge"
   ]
  },
  {
   "cell_type": "code",
   "execution_count": null,
   "metadata": {
    "pycharm": {
     "is_executing": true
    }
   },
   "outputs": [],
   "source": [
    "df_final = pd.merge(df_real, dis_afr_df, left_on = [\"Country Name\", \"Country Code\", \"Year\"], right_on= ['Entity','Code','Year'], how = 'inner')\n",
    "\n",
    "df_final"
   ]
  },
  {
   "cell_type": "code",
   "execution_count": null,
   "metadata": {
    "pycharm": {
     "is_executing": true
    }
   },
   "outputs": [],
   "source": []
  },
  {
   "cell_type": "code",
   "execution_count": null,
   "metadata": {
    "pycharm": {
     "is_executing": true
    }
   },
   "outputs": [],
   "source": [
    "df_final.drop('Year', 1).isna().groupby(df_final.Year, sort=False).sum().reset_index()\n"
   ]
  },
  {
   "cell_type": "code",
   "execution_count": null,
   "metadata": {
    "pycharm": {
     "is_executing": true
    }
   },
   "outputs": [],
   "source": [
    "df_final\n"
   ]
  },
  {
   "cell_type": "code",
   "execution_count": null,
   "metadata": {
    "pycharm": {
     "is_executing": true
    }
   },
   "outputs": [],
   "source": [
    "df_final.loc[df_final['Year' == '2019']]"
   ]
  },
  {
   "cell_type": "code",
   "execution_count": null,
   "metadata": {
    "pycharm": {
     "is_executing": true
    }
   },
   "outputs": [],
   "source": [
    "df_real.loc[df_real['Year'] == 2019, :].sort_values(['Life Expectancy World Bank'], ascending = False)"
   ]
  },
  {
   "cell_type": "code",
   "execution_count": null,
   "metadata": {
    "pycharm": {
     "is_executing": true
    }
   },
   "outputs": [],
   "source": [
    "df_final05 = df_final.loc[df_final['Year']> 2004, :]"
   ]
  },
  {
   "cell_type": "code",
   "execution_count": null,
   "metadata": {
    "pycharm": {
     "is_executing": true
    }
   },
   "outputs": [],
   "source": [
    "df_na_cont = df_final05.drop('Country Name', 1).isna().groupby(df_final05['Country Name'], sort=False).sum().reset_index()"
   ]
  },
  {
   "cell_type": "code",
   "execution_count": null,
   "metadata": {
    "pycharm": {
     "is_executing": true
    }
   },
   "outputs": [],
   "source": [
    "df_na_cont"
   ]
  },
  {
   "cell_type": "code",
   "execution_count": null,
   "metadata": {
    "pycharm": {
     "is_executing": true
    }
   },
   "outputs": [],
   "source": [
    "df_na_cont.loc[df_na_cont['Sanitation'] == 0 ].reset_index()"
   ]
  },
  {
   "cell_type": "code",
   "execution_count": null,
   "metadata": {
    "pycharm": {
     "is_executing": true
    }
   },
   "outputs": [],
   "source": [
    "df_fil = df_na_cont.loc[(df_na_cont['Prevelance of Undernourishment'] == 0 ) & (df_na_cont['Corruption'] == 0) & (df_na_cont['Education Expenditure %'] <10)].reset_index()\n",
    "\n",
    "cont = df_fil['Country Name'].tolist()\n",
    "df_fil"
   ]
  },
  {
   "cell_type": "code",
   "execution_count": null,
   "metadata": {
    "pycharm": {
     "is_executing": true
    }
   },
   "outputs": [],
   "source": [
    "df_ed_na = df_na_cont.loc[(df_na_cont['Education Expenditure %'] != 0 ) & (df_na_cont['Country Name'].isin(cont))].reset_index(drop = True)\n",
    "cn_edna = df_ed_na['Country Name'].tolist()\n"
   ]
  },
  {
   "cell_type": "code",
   "execution_count": null,
   "metadata": {
    "pycharm": {
     "is_executing": true
    }
   },
   "outputs": [],
   "source": [
    "drop_cont = ['Seychelles', 'Equatorial Guinea'  ]"
   ]
  },
  {
   "cell_type": "code",
   "execution_count": null,
   "metadata": {
    "pycharm": {
     "is_executing": true
    }
   },
   "outputs": [],
   "source": [
    "df_final.drop(columns = ['Sanitation','Entity','Code'], inplace = True)"
   ]
  },
  {
   "cell_type": "code",
   "execution_count": null,
   "metadata": {
    "pycharm": {
     "is_executing": true
    }
   },
   "outputs": [],
   "source": [
    "print(len(cont))\n",
    "cont"
   ]
  },
  {
   "cell_type": "code",
   "execution_count": null,
   "metadata": {
    "pycharm": {
     "is_executing": true
    }
   },
   "outputs": [],
   "source": [
    "\n",
    "df_final = df_final.loc[(df_final['Country Name'].isin(cont)) & (df_final['Year'] >= 2005), :]\n",
    "df_final"
   ]
  },
  {
   "cell_type": "code",
   "execution_count": null,
   "metadata": {
    "pycharm": {
     "is_executing": true
    }
   },
   "outputs": [],
   "source": [
    "df_final.to_csv(dr + 'final_df.csv', index = False)"
   ]
  },
  {
   "cell_type": "code",
   "execution_count": null,
   "metadata": {
    "pycharm": {
     "is_executing": true
    }
   },
   "outputs": [],
   "source": [
    "df_final[df_final['Country Name'] == 'Mozambique']"
   ]
  },
  {
   "cell_type": "code",
   "execution_count": null,
   "metadata": {
    "pycharm": {
     "is_executing": true
    },
    "scrolled": true
   },
   "outputs": [],
   "source": [
    "df_final2 = df_final.rename(columns = {\"Prevelance of Undernourishment\" : \"Undernourishment\", \\\n",
    "                           \"Health Expenditure %\": \"Health\", \\\n",
    "                          \"Education Expenditure %\" : \"Educ\", \\\n",
    "                          \"Life Expectancy World Bank\": \"Y\"})\n",
    "df_final2['Educ'] = df_final2['Educ'].interpolate(method = 'linear')\n",
    "df_final2[df_final2['Country Name'] == 'Mozambique']"
   ]
  },
  {
   "cell_type": "code",
   "execution_count": null,
   "metadata": {
    "pycharm": {
     "is_executing": true
    }
   },
   "outputs": [],
   "source": [
    "df_final2 = df_final.rename(columns = {\"Prevelance of Undernourishment\" : \"Undernourishment\", \\\n",
    "                           \"Health Expenditure %\": \"Health\", \\\n",
    "                          \"Education Expenditure %\" : \"Educ\", \\\n",
    "                          \"Life Expectancy World Bank\": \"Y\"})\n",
    "df_final2['Educ'] = df_final2['Educ'].fillna(method ='bfill')\n",
    "df_final2[df_final2['Country Name'] == 'Mozambique']"
   ]
  },
  {
   "cell_type": "code",
   "execution_count": null,
   "metadata": {
    "pycharm": {
     "is_executing": true
    }
   },
   "outputs": [],
   "source": [
    "code_name_dic = df_final2.groupby('Country Code')['Country Name'].unique().apply(list).to_dict()\n",
    "code_name_dic\n"
   ]
  },
  {
   "cell_type": "code",
   "execution_count": null,
   "metadata": {
    "pycharm": {
     "is_executing": true
    }
   },
   "outputs": [],
   "source": [
    "lg_col = ['Injuries','Communicable','NonCommunicable','CO2' ]\n",
    "for i in lg_col:\n",
    "    df_final2['log_'+ i ] = np.log10(df_final2[i])\n"
   ]
  },
  {
   "cell_type": "code",
   "execution_count": null,
   "metadata": {
    "pycharm": {
     "is_executing": true
    }
   },
   "outputs": [],
   "source": [
    "['df']+ ['s', 'f']"
   ]
  },
  {
   "cell_type": "code",
   "execution_count": null,
   "metadata": {
    "pycharm": {
     "is_executing": true
    }
   },
   "outputs": [],
   "source": [
    "df_final2.isna().sum()"
   ]
  },
  {
   "cell_type": "code",
   "execution_count": null,
   "metadata": {
    "pycharm": {
     "is_executing": true
    }
   },
   "outputs": [],
   "source": [
    "df_final2.drop(columns = ['CO2', 'log_Injuries', 'log_NonCommunicable', 'Injuries','Communicable','NonCommunicable']).reset_index(drop = True)"
   ]
  },
  {
   "cell_type": "code",
   "execution_count": null,
   "metadata": {
    "pycharm": {
     "is_executing": true
    }
   },
   "outputs": [],
   "source": [
    "df_final2.to_csv(dr + 'df_final2.csv', index = False)"
   ]
  },
  {
   "cell_type": "markdown",
   "metadata": {},
   "source": [
    "### Panel Data Preparation"
   ]
  },
  {
   "cell_type": "code",
   "execution_count": null,
   "metadata": {
    "pycharm": {
     "is_executing": true
    }
   },
   "outputs": [],
   "source": [
    "pdf = df_final2.set_index(keys = ['Country Code', \"Year\"]).drop(columns = [\"Country Name\"]+lg_col)\n",
    "pdf\n"
   ]
  },
  {
   "cell_type": "code",
   "execution_count": null,
   "metadata": {
    "pycharm": {
     "is_executing": true
    }
   },
   "outputs": [],
   "source": [
    "years = pdf.index.get_level_values('Year').to_list()\n",
    "pdf[\"Year\"] = pd.Categorical(years)"
   ]
  },
  {
   "cell_type": "code",
   "execution_count": null,
   "metadata": {
    "pycharm": {
     "is_executing": true
    }
   },
   "outputs": [],
   "source": [
    "pdf.drop(columns = ['log_NonCommunicable', 'log_Injuries'], inplace = True )\n",
    "pdf"
   ]
  },
  {
   "cell_type": "markdown",
   "metadata": {},
   "source": [
    "## Panel Data Modelling"
   ]
  },
  {
   "cell_type": "markdown",
   "metadata": {},
   "source": [
    "### Pooled OLS "
   ]
  },
  {
   "cell_type": "code",
   "execution_count": null,
   "metadata": {
    "pycharm": {
     "is_executing": true
    }
   },
   "outputs": [],
   "source": [
    "# Perform PooledOLS\n",
    "from linearmodels import PooledOLS\n",
    "import statsmodels.api as sm\n"
   ]
  },
  {
   "cell_type": "code",
   "execution_count": null,
   "metadata": {
    "pycharm": {
     "is_executing": true
    }
   },
   "outputs": [],
   "source": [
    "pdf\n"
   ]
  },
  {
   "cell_type": "code",
   "execution_count": null,
   "metadata": {
    "pycharm": {
     "is_executing": true
    }
   },
   "outputs": [],
   "source": [
    "pdf[['Undernourishment','log_CO2','Health','Educ','Unemployment','Corruption','log_Communicable']]"
   ]
  },
  {
   "cell_type": "code",
   "execution_count": null,
   "metadata": {
    "pycharm": {
     "is_executing": true
    }
   },
   "outputs": [],
   "source": [
    "X = sm.tools.tools.add_constant(pdf[['Undernourishment','log_CO2','Health','Educ','Unemployment','Corruption','log_Communicable']])\n"
   ]
  },
  {
   "cell_type": "code",
   "execution_count": null,
   "metadata": {
    "pycharm": {
     "is_executing": true
    }
   },
   "outputs": [],
   "source": []
  },
  {
   "cell_type": "code",
   "execution_count": null,
   "metadata": {
    "pycharm": {
     "is_executing": true
    }
   },
   "outputs": [],
   "source": [
    "Y = pdf['Y']\n",
    "mod = PooledOLS(Y, X)\n",
    "pooledOLS_res = mod.fit(cov_type='clustered', cluster_entity=True)\n",
    "# Store values for checking homoskedasticity graphically\n",
    "fittedvals_pooled_OLS = pooledOLS_res.predict().fitted_values\n",
    "residuals_pooled_OLS = pooledOLS_res.resids"
   ]
  },
  {
   "cell_type": "code",
   "execution_count": null,
   "metadata": {
    "pycharm": {
     "is_executing": true
    }
   },
   "outputs": [],
   "source": [
    "import matplotlib.pyplot as plt\n",
    " # 3A.1 Residuals-Plot for growing Variance Detection\n",
    "from matplotlib.pylab import rcParams\n",
    "rcParams['figure.figsize'] = 15, 6\n",
    "fig, ax = plt.subplots()\n",
    "ax.scatter(fittedvals_pooled_OLS, residuals_pooled_OLS, color = 'b')\n",
    "ax.axhline(0, color = 'r', ls = '--')\n",
    "ax.set_xlabel('Predicted Values', fontsize = 10)\n",
    "ax.set_ylabel('Residuals', fontsize = 10)\n",
    "ax.set_title('Homoskedasticity Test', fontsize = 10)\n",
    "plt.show()"
   ]
  },
  {
   "cell_type": "code",
   "execution_count": null,
   "metadata": {
    "pycharm": {
     "is_executing": true
    }
   },
   "outputs": [],
   "source": [
    "print(pooledOLS_res)"
   ]
  },
  {
   "cell_type": "code",
   "execution_count": null,
   "metadata": {
    "pycharm": {
     "is_executing": true
    }
   },
   "outputs": [],
   "source": [
    "from statsmodels.stats.diagnostic import het_white, het_breuschpagan\n",
    "pooled_OLS_dataset = pd.concat([pdf, residuals_pooled_OLS], axis=1)\n",
    "pooled_OLS_dataset = pooled_OLS_dataset.drop(['Year'], axis = 1).fillna(0)\n",
    "#exog = sm.tools.tools.add_constant(dataset['income']).fillna(0)\n",
    "white_test_results = het_white(pooled_OLS_dataset['residual'], X)\n",
    "labels = ['LM-Stat', 'LM p-val', 'F-Stat', 'F p-val'] \n",
    "print(dict(zip(labels, white_test_results)))"
   ]
  },
  {
   "cell_type": "code",
   "execution_count": null,
   "metadata": {
    "pycharm": {
     "is_executing": true
    }
   },
   "outputs": [],
   "source": [
    "breusch_pagan_test_results = het_breuschpagan(pooled_OLS_dataset['residual'], X)\n",
    "\n",
    "print(dict(zip(labels, breusch_pagan_test_results)))"
   ]
  },
  {
   "cell_type": "code",
   "execution_count": null,
   "metadata": {
    "pycharm": {
     "is_executing": true
    }
   },
   "outputs": [],
   "source": [
    "from statsmodels.stats.stattools import durbin_watson\n",
    "\n",
    "durbin_watson_test_results = durbin_watson(pooled_OLS_dataset['residual']) \n",
    "print(durbin_watson_test_results)"
   ]
  },
  {
   "cell_type": "code",
   "execution_count": null,
   "metadata": {
    "pycharm": {
     "is_executing": true
    }
   },
   "outputs": [],
   "source": [
    "sm.stats.acorr_ljungbox(pooled_OLS_dataset['residual'], return_df=True)"
   ]
  },
  {
   "cell_type": "code",
   "execution_count": null,
   "metadata": {
    "pycharm": {
     "is_executing": true
    }
   },
   "outputs": [],
   "source": [
    "# FE und RE model\n",
    "from linearmodels import PanelOLS\n",
    "from linearmodels import RandomEffects?\n",
    "# random effects model\n",
    "model_re = RandomEffects(Y, X) \n",
    "re_res = model_re.fit() \n",
    "# fixed effects model\n",
    "model_fe = PanelOLS(Y, X, entity_effects = True) \n",
    "fe_res = model_fe.fit() \n",
    "#print results\n",
    "print(re_res)\n"
   ]
  },
  {
   "cell_type": "code",
   "execution_count": null,
   "metadata": {
    "pycharm": {
     "is_executing": true
    }
   },
   "outputs": [],
   "source": [
    "print(fe_res)"
   ]
  },
  {
   "cell_type": "code",
   "execution_count": null,
   "metadata": {
    "pycharm": {
     "is_executing": true
    }
   },
   "outputs": [],
   "source": [
    "import numpy.linalg as la\n",
    "from scipy import stats\n",
    "import numpy as np\n",
    "\n",
    "def hausman(fe, re):\n",
    "    b = fe.params\n",
    "    B = re.params\n",
    "    v_b = fe.cov\n",
    "    v_B = re.cov\n",
    "    df = b[np.abs(b) < 1e8].size\n",
    "    chi2 = np.dot((b - B).T, la.inv(v_b - v_B).dot(b - B))\n",
    "\n",
    "    pval = stats.chi2.sf(chi2, df)\n",
    "    return chi2, df, pval"
   ]
  },
  {
   "cell_type": "code",
   "execution_count": null,
   "metadata": {
    "pycharm": {
     "is_executing": true
    }
   },
   "outputs": [],
   "source": [
    "hausman_results = hausman(fe_res, re_res) \n",
    "print('chi-Squared:' + str(hausman_results[0]))\n",
    "print('degrees of freedom: ' + str(hausman_results[1]))\n",
    "print('p-Value: ' + str(hausman_results[2]))"
   ]
  },
  {
   "cell_type": "code",
   "execution_count": null,
   "metadata": {
    "pycharm": {
     "is_executing": true
    }
   },
   "outputs": [],
   "source": [
    "fe_res.params"
   ]
  },
  {
   "cell_type": "code",
   "execution_count": null,
   "metadata": {
    "pycharm": {
     "is_executing": true
    }
   },
   "outputs": [],
   "source": [
    "print(type(fe_res.params))"
   ]
  },
  {
   "cell_type": "code",
   "execution_count": null,
   "metadata": {
    "pycharm": {
     "is_executing": true
    }
   },
   "outputs": [],
   "source": [
    "corr_matrix = pdf[['Undernourishment','log_CO2','Health','Educ','Unemployment','Corruption','log_Communicable']].corr()\n",
    "sn.heatmap(corr_matrix, annot=True)\n",
    "plt.title(\"Correlation Matrix of Independent Variables\", size = 15)\n",
    "plt.show()"
   ]
  },
  {
   "cell_type": "code",
   "execution_count": null,
   "metadata": {
    "pycharm": {
     "is_executing": true
    }
   },
   "outputs": [],
   "source": [
    "ax = sn.heatmap(corr_matrix, annot=True)\n",
    "ax.set(xlabel=\"\", ylabel=\"\")\n",
    "ax.xaxis.tick_top()"
   ]
  },
  {
   "cell_type": "code",
   "execution_count": null,
   "metadata": {
    "pycharm": {
     "is_executing": true
    }
   },
   "outputs": [],
   "source": [
    "!jt -t grade3 -dfs 13 -ofs 13 -tfs 17 -cellw 100%"
   ]
  },
  {
   "cell_type": "code",
   "execution_count": null,
   "metadata": {
    "pycharm": {
     "is_executing": true
    }
   },
   "outputs": [],
   "source": []
  }
 ],
 "metadata": {
  "kernelspec": {
   "display_name": "Python 3",
   "language": "python",
   "name": "python3"
  },
  "language_info": {
   "codemirror_mode": {
    "name": "ipython",
    "version": 3
   },
   "file_extension": ".py",
   "mimetype": "text/x-python",
   "name": "python",
   "nbconvert_exporter": "python",
   "pygments_lexer": "ipython3",
   "version": "3.8.8"
  }
 },
 "nbformat": 4,
 "nbformat_minor": 1
}